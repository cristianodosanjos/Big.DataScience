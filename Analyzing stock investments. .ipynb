{
 "cells": [
  {
   "cell_type": "markdown",
   "metadata": {},
   "source": [
    "# ..Made by Cristiano Dos Anjos..\n",
    "cristianodosanjos019@gmail.com"
   ]
  },
  {
   "cell_type": "markdown",
   "metadata": {},
   "source": [
    "## This is a project of Investment. "
   ]
  },
  {
   "cell_type": "markdown",
   "metadata": {},
   "source": [
    "### In this project we are going to analyze some instruments of investment and decide which is better to invest our money. :)"
   ]
  },
  {
   "cell_type": "markdown",
   "metadata": {},
   "source": [
    "We pick up this dataset from Kaggle website."
   ]
  },
  {
   "cell_type": "code",
   "execution_count": 1,
   "metadata": {},
   "outputs": [],
   "source": [
    "import pandas as pd\n",
    "import matplotlib.pyplot as plt\n",
    "import seaborn as sns\n",
    "import numpy as np\n",
    "from scipy.stats import norm"
   ]
  },
  {
   "cell_type": "code",
   "execution_count": 2,
   "metadata": {},
   "outputs": [
    {
     "data": {
      "text/html": [
       "<div>\n",
       "<style scoped>\n",
       "    .dataframe tbody tr th:only-of-type {\n",
       "        vertical-align: middle;\n",
       "    }\n",
       "\n",
       "    .dataframe tbody tr th {\n",
       "        vertical-align: top;\n",
       "    }\n",
       "\n",
       "    .dataframe thead th {\n",
       "        text-align: right;\n",
       "    }\n",
       "</style>\n",
       "<table border=\"1\" class=\"dataframe\">\n",
       "  <thead>\n",
       "    <tr style=\"text-align: right;\">\n",
       "      <th></th>\n",
       "      <th>date</th>\n",
       "      <th>open</th>\n",
       "      <th>high</th>\n",
       "      <th>low</th>\n",
       "      <th>close</th>\n",
       "      <th>volume</th>\n",
       "      <th>Name</th>\n",
       "    </tr>\n",
       "  </thead>\n",
       "  <tbody>\n",
       "    <tr>\n",
       "      <th>0</th>\n",
       "      <td>2013-02-08</td>\n",
       "      <td>15.07</td>\n",
       "      <td>15.12</td>\n",
       "      <td>14.63</td>\n",
       "      <td>14.75</td>\n",
       "      <td>8407500</td>\n",
       "      <td>AAL</td>\n",
       "    </tr>\n",
       "    <tr>\n",
       "      <th>1</th>\n",
       "      <td>2013-02-11</td>\n",
       "      <td>14.89</td>\n",
       "      <td>15.01</td>\n",
       "      <td>14.26</td>\n",
       "      <td>14.46</td>\n",
       "      <td>8882000</td>\n",
       "      <td>AAL</td>\n",
       "    </tr>\n",
       "    <tr>\n",
       "      <th>2</th>\n",
       "      <td>2013-02-12</td>\n",
       "      <td>14.45</td>\n",
       "      <td>14.51</td>\n",
       "      <td>14.10</td>\n",
       "      <td>14.27</td>\n",
       "      <td>8126000</td>\n",
       "      <td>AAL</td>\n",
       "    </tr>\n",
       "  </tbody>\n",
       "</table>\n",
       "</div>"
      ],
      "text/plain": [
       "         date   open   high    low  close   volume Name\n",
       "0  2013-02-08  15.07  15.12  14.63  14.75  8407500  AAL\n",
       "1  2013-02-11  14.89  15.01  14.26  14.46  8882000  AAL\n",
       "2  2013-02-12  14.45  14.51  14.10  14.27  8126000  AAL"
      ]
     },
     "execution_count": 2,
     "metadata": {},
     "output_type": "execute_result"
    }
   ],
   "source": [
    "df1 = pd.read_csv('C:/Users/7c4/Documents/Project-A/all_stocks_5yr.csv')\n",
    "df1.head(3)"
   ]
  },
  {
   "cell_type": "code",
   "execution_count": 3,
   "metadata": {},
   "outputs": [
    {
     "data": {
      "text/plain": [
       "date       0\n",
       "open      11\n",
       "high       8\n",
       "low        8\n",
       "close      0\n",
       "volume     0\n",
       "Name       0\n",
       "dtype: int64"
      ]
     },
     "execution_count": 3,
     "metadata": {},
     "output_type": "execute_result"
    }
   ],
   "source": [
    "df1.isna().sum()"
   ]
  },
  {
   "cell_type": "markdown",
   "metadata": {},
   "source": [
    "#### In the line above we can see that we have a total of 27 missing values in this data, let's take it off."
   ]
  },
  {
   "cell_type": "code",
   "execution_count": 4,
   "metadata": {},
   "outputs": [],
   "source": [
    "df = df1.dropna()"
   ]
  },
  {
   "cell_type": "code",
   "execution_count": 5,
   "metadata": {},
   "outputs": [
    {
     "data": {
      "text/html": [
       "<div>\n",
       "<style scoped>\n",
       "    .dataframe tbody tr th:only-of-type {\n",
       "        vertical-align: middle;\n",
       "    }\n",
       "\n",
       "    .dataframe tbody tr th {\n",
       "        vertical-align: top;\n",
       "    }\n",
       "\n",
       "    .dataframe thead th {\n",
       "        text-align: right;\n",
       "    }\n",
       "</style>\n",
       "<table border=\"1\" class=\"dataframe\">\n",
       "  <thead>\n",
       "    <tr style=\"text-align: right;\">\n",
       "      <th></th>\n",
       "      <th>date</th>\n",
       "      <th>open</th>\n",
       "      <th>high</th>\n",
       "      <th>low</th>\n",
       "      <th>close</th>\n",
       "      <th>volume</th>\n",
       "      <th>Name</th>\n",
       "    </tr>\n",
       "  </thead>\n",
       "  <tbody>\n",
       "    <tr>\n",
       "      <th>0</th>\n",
       "      <td>2013-02-08</td>\n",
       "      <td>15.07</td>\n",
       "      <td>15.12</td>\n",
       "      <td>14.63</td>\n",
       "      <td>14.75</td>\n",
       "      <td>8407500</td>\n",
       "      <td>AAL</td>\n",
       "    </tr>\n",
       "    <tr>\n",
       "      <th>1</th>\n",
       "      <td>2013-02-11</td>\n",
       "      <td>14.89</td>\n",
       "      <td>15.01</td>\n",
       "      <td>14.26</td>\n",
       "      <td>14.46</td>\n",
       "      <td>8882000</td>\n",
       "      <td>AAL</td>\n",
       "    </tr>\n",
       "    <tr>\n",
       "      <th>2</th>\n",
       "      <td>2013-02-12</td>\n",
       "      <td>14.45</td>\n",
       "      <td>14.51</td>\n",
       "      <td>14.10</td>\n",
       "      <td>14.27</td>\n",
       "      <td>8126000</td>\n",
       "      <td>AAL</td>\n",
       "    </tr>\n",
       "    <tr>\n",
       "      <th>3</th>\n",
       "      <td>2013-02-13</td>\n",
       "      <td>14.30</td>\n",
       "      <td>14.94</td>\n",
       "      <td>14.25</td>\n",
       "      <td>14.66</td>\n",
       "      <td>10259500</td>\n",
       "      <td>AAL</td>\n",
       "    </tr>\n",
       "    <tr>\n",
       "      <th>4</th>\n",
       "      <td>2013-02-14</td>\n",
       "      <td>14.94</td>\n",
       "      <td>14.96</td>\n",
       "      <td>13.16</td>\n",
       "      <td>13.99</td>\n",
       "      <td>31879900</td>\n",
       "      <td>AAL</td>\n",
       "    </tr>\n",
       "    <tr>\n",
       "      <th>...</th>\n",
       "      <td>...</td>\n",
       "      <td>...</td>\n",
       "      <td>...</td>\n",
       "      <td>...</td>\n",
       "      <td>...</td>\n",
       "      <td>...</td>\n",
       "      <td>...</td>\n",
       "    </tr>\n",
       "    <tr>\n",
       "      <th>619035</th>\n",
       "      <td>2018-02-01</td>\n",
       "      <td>76.84</td>\n",
       "      <td>78.27</td>\n",
       "      <td>76.69</td>\n",
       "      <td>77.82</td>\n",
       "      <td>2982259</td>\n",
       "      <td>ZTS</td>\n",
       "    </tr>\n",
       "    <tr>\n",
       "      <th>619036</th>\n",
       "      <td>2018-02-02</td>\n",
       "      <td>77.53</td>\n",
       "      <td>78.12</td>\n",
       "      <td>76.73</td>\n",
       "      <td>76.78</td>\n",
       "      <td>2595187</td>\n",
       "      <td>ZTS</td>\n",
       "    </tr>\n",
       "    <tr>\n",
       "      <th>619037</th>\n",
       "      <td>2018-02-05</td>\n",
       "      <td>76.64</td>\n",
       "      <td>76.92</td>\n",
       "      <td>73.18</td>\n",
       "      <td>73.83</td>\n",
       "      <td>2962031</td>\n",
       "      <td>ZTS</td>\n",
       "    </tr>\n",
       "    <tr>\n",
       "      <th>619038</th>\n",
       "      <td>2018-02-06</td>\n",
       "      <td>72.74</td>\n",
       "      <td>74.56</td>\n",
       "      <td>72.13</td>\n",
       "      <td>73.27</td>\n",
       "      <td>4924323</td>\n",
       "      <td>ZTS</td>\n",
       "    </tr>\n",
       "    <tr>\n",
       "      <th>619039</th>\n",
       "      <td>2018-02-07</td>\n",
       "      <td>72.70</td>\n",
       "      <td>75.00</td>\n",
       "      <td>72.69</td>\n",
       "      <td>73.86</td>\n",
       "      <td>4534912</td>\n",
       "      <td>ZTS</td>\n",
       "    </tr>\n",
       "  </tbody>\n",
       "</table>\n",
       "<p>619029 rows × 7 columns</p>\n",
       "</div>"
      ],
      "text/plain": [
       "              date   open   high    low  close    volume Name\n",
       "0       2013-02-08  15.07  15.12  14.63  14.75   8407500  AAL\n",
       "1       2013-02-11  14.89  15.01  14.26  14.46   8882000  AAL\n",
       "2       2013-02-12  14.45  14.51  14.10  14.27   8126000  AAL\n",
       "3       2013-02-13  14.30  14.94  14.25  14.66  10259500  AAL\n",
       "4       2013-02-14  14.94  14.96  13.16  13.99  31879900  AAL\n",
       "...            ...    ...    ...    ...    ...       ...  ...\n",
       "619035  2018-02-01  76.84  78.27  76.69  77.82   2982259  ZTS\n",
       "619036  2018-02-02  77.53  78.12  76.73  76.78   2595187  ZTS\n",
       "619037  2018-02-05  76.64  76.92  73.18  73.83   2962031  ZTS\n",
       "619038  2018-02-06  72.74  74.56  72.13  73.27   4924323  ZTS\n",
       "619039  2018-02-07  72.70  75.00  72.69  73.86   4534912  ZTS\n",
       "\n",
       "[619029 rows x 7 columns]"
      ]
     },
     "metadata": {},
     "output_type": "display_data"
    }
   ],
   "source": [
    "display(df)"
   ]
  },
  {
   "cell_type": "markdown",
   "metadata": {},
   "source": [
    "#### As we can see, this dataset have 619029 and 7 columns."
   ]
  },
  {
   "cell_type": "code",
   "execution_count": 6,
   "metadata": {},
   "outputs": [
    {
     "data": {
      "text/html": [
       "<div>\n",
       "<style scoped>\n",
       "    .dataframe tbody tr th:only-of-type {\n",
       "        vertical-align: middle;\n",
       "    }\n",
       "\n",
       "    .dataframe tbody tr th {\n",
       "        vertical-align: top;\n",
       "    }\n",
       "\n",
       "    .dataframe thead th {\n",
       "        text-align: right;\n",
       "    }\n",
       "</style>\n",
       "<table border=\"1\" class=\"dataframe\">\n",
       "  <thead>\n",
       "    <tr style=\"text-align: right;\">\n",
       "      <th></th>\n",
       "      <th>open</th>\n",
       "      <th>high</th>\n",
       "      <th>low</th>\n",
       "      <th>close</th>\n",
       "      <th>volume</th>\n",
       "    </tr>\n",
       "    <tr>\n",
       "      <th>Name</th>\n",
       "      <th></th>\n",
       "      <th></th>\n",
       "      <th></th>\n",
       "      <th></th>\n",
       "      <th></th>\n",
       "    </tr>\n",
       "  </thead>\n",
       "  <tbody>\n",
       "    <tr>\n",
       "      <th>A</th>\n",
       "      <td>61927.5200</td>\n",
       "      <td>62446.4739</td>\n",
       "      <td>61416.5707</td>\n",
       "      <td>61945.3500</td>\n",
       "      <td>2943590983</td>\n",
       "    </tr>\n",
       "    <tr>\n",
       "      <th>AAL</th>\n",
       "      <td>48333.6338</td>\n",
       "      <td>49045.0423</td>\n",
       "      <td>47622.4367</td>\n",
       "      <td>48337.1046</td>\n",
       "      <td>11822414547</td>\n",
       "    </tr>\n",
       "    <tr>\n",
       "      <th>AAP</th>\n",
       "      <td>166741.4949</td>\n",
       "      <td>168477.2362</td>\n",
       "      <td>164974.3554</td>\n",
       "      <td>166733.7300</td>\n",
       "      <td>1357256410</td>\n",
       "    </tr>\n",
       "    <tr>\n",
       "      <th>AAPL</th>\n",
       "      <td>137300.7850</td>\n",
       "      <td>138428.4580</td>\n",
       "      <td>136150.2604</td>\n",
       "      <td>137314.9734</td>\n",
       "      <td>68046305767</td>\n",
       "    </tr>\n",
       "    <tr>\n",
       "      <th>ABBV</th>\n",
       "      <td>76550.7260</td>\n",
       "      <td>77395.9335</td>\n",
       "      <td>75763.1891</td>\n",
       "      <td>76628.3300</td>\n",
       "      <td>9909189476</td>\n",
       "    </tr>\n",
       "    <tr>\n",
       "      <th>...</th>\n",
       "      <td>...</td>\n",
       "      <td>...</td>\n",
       "      <td>...</td>\n",
       "      <td>...</td>\n",
       "      <td>...</td>\n",
       "    </tr>\n",
       "    <tr>\n",
       "      <th>XYL</th>\n",
       "      <td>52142.0801</td>\n",
       "      <td>52580.7312</td>\n",
       "      <td>51714.7172</td>\n",
       "      <td>52165.5250</td>\n",
       "      <td>1489574691</td>\n",
       "    </tr>\n",
       "    <tr>\n",
       "      <th>YUM</th>\n",
       "      <td>94956.4223</td>\n",
       "      <td>95718.1484</td>\n",
       "      <td>94229.7471</td>\n",
       "      <td>94992.8200</td>\n",
       "      <td>4040170774</td>\n",
       "    </tr>\n",
       "    <tr>\n",
       "      <th>ZBH</th>\n",
       "      <td>132877.3950</td>\n",
       "      <td>133982.5966</td>\n",
       "      <td>131814.8301</td>\n",
       "      <td>132958.3200</td>\n",
       "      <td>1633103868</td>\n",
       "    </tr>\n",
       "    <tr>\n",
       "      <th>ZION</th>\n",
       "      <td>40491.2997</td>\n",
       "      <td>40929.1958</td>\n",
       "      <td>40039.0216</td>\n",
       "      <td>40504.2840</td>\n",
       "      <td>3300062992</td>\n",
       "    </tr>\n",
       "    <tr>\n",
       "      <th>ZTS</th>\n",
       "      <td>56770.0587</td>\n",
       "      <td>57270.4322</td>\n",
       "      <td>56233.9759</td>\n",
       "      <td>56779.1980</td>\n",
       "      <td>4635485010</td>\n",
       "    </tr>\n",
       "  </tbody>\n",
       "</table>\n",
       "<p>505 rows × 5 columns</p>\n",
       "</div>"
      ],
      "text/plain": [
       "             open         high          low        close       volume\n",
       "Name                                                                 \n",
       "A      61927.5200   62446.4739   61416.5707   61945.3500   2943590983\n",
       "AAL    48333.6338   49045.0423   47622.4367   48337.1046  11822414547\n",
       "AAP   166741.4949  168477.2362  164974.3554  166733.7300   1357256410\n",
       "AAPL  137300.7850  138428.4580  136150.2604  137314.9734  68046305767\n",
       "ABBV   76550.7260   77395.9335   75763.1891   76628.3300   9909189476\n",
       "...           ...          ...          ...          ...          ...\n",
       "XYL    52142.0801   52580.7312   51714.7172   52165.5250   1489574691\n",
       "YUM    94956.4223   95718.1484   94229.7471   94992.8200   4040170774\n",
       "ZBH   132877.3950  133982.5966  131814.8301  132958.3200   1633103868\n",
       "ZION   40491.2997   40929.1958   40039.0216   40504.2840   3300062992\n",
       "ZTS    56770.0587   57270.4322   56233.9759   56779.1980   4635485010\n",
       "\n",
       "[505 rows x 5 columns]"
      ]
     },
     "execution_count": 6,
     "metadata": {},
     "output_type": "execute_result"
    }
   ],
   "source": [
    "df.groupby('Name').sum()"
   ]
  },
  {
   "cell_type": "markdown",
   "metadata": {},
   "source": [
    "#### We have in this data 505 instruments of investment."
   ]
  },
  {
   "cell_type": "markdown",
   "metadata": {},
   "source": [
    "#### We wanna know which is the 2 better instruments of investment, but we have 505 instruments. Let's catch 2 intruments with highest profit according to the mean of close and open."
   ]
  },
  {
   "cell_type": "code",
   "execution_count": 7,
   "metadata": {},
   "outputs": [],
   "source": [
    "dm0 = df.groupby('Name').mean()"
   ]
  },
  {
   "cell_type": "code",
   "execution_count": 8,
   "metadata": {},
   "outputs": [
    {
     "data": {
      "text/html": [
       "<div>\n",
       "<style scoped>\n",
       "    .dataframe tbody tr th:only-of-type {\n",
       "        vertical-align: middle;\n",
       "    }\n",
       "\n",
       "    .dataframe tbody tr th {\n",
       "        vertical-align: top;\n",
       "    }\n",
       "\n",
       "    .dataframe thead th {\n",
       "        text-align: right;\n",
       "    }\n",
       "</style>\n",
       "<table border=\"1\" class=\"dataframe\">\n",
       "  <thead>\n",
       "    <tr style=\"text-align: right;\">\n",
       "      <th></th>\n",
       "      <th>open</th>\n",
       "      <th>high</th>\n",
       "      <th>low</th>\n",
       "      <th>close</th>\n",
       "      <th>volume</th>\n",
       "    </tr>\n",
       "    <tr>\n",
       "      <th>Name</th>\n",
       "      <th></th>\n",
       "      <th></th>\n",
       "      <th></th>\n",
       "      <th></th>\n",
       "      <th></th>\n",
       "    </tr>\n",
       "  </thead>\n",
       "  <tbody>\n",
       "    <tr>\n",
       "      <th>A</th>\n",
       "      <td>49.187863</td>\n",
       "      <td>49.600059</td>\n",
       "      <td>48.782026</td>\n",
       "      <td>49.202025</td>\n",
       "      <td>2.338039e+06</td>\n",
       "    </tr>\n",
       "    <tr>\n",
       "      <th>AAL</th>\n",
       "      <td>38.390495</td>\n",
       "      <td>38.955554</td>\n",
       "      <td>37.825605</td>\n",
       "      <td>38.393252</td>\n",
       "      <td>9.390321e+06</td>\n",
       "    </tr>\n",
       "    <tr>\n",
       "      <th>AAP</th>\n",
       "      <td>132.439631</td>\n",
       "      <td>133.818297</td>\n",
       "      <td>131.036025</td>\n",
       "      <td>132.433463</td>\n",
       "      <td>1.078043e+06</td>\n",
       "    </tr>\n",
       "  </tbody>\n",
       "</table>\n",
       "</div>"
      ],
      "text/plain": [
       "            open        high         low       close        volume\n",
       "Name                                                              \n",
       "A      49.187863   49.600059   48.782026   49.202025  2.338039e+06\n",
       "AAL    38.390495   38.955554   37.825605   38.393252  9.390321e+06\n",
       "AAP   132.439631  133.818297  131.036025  132.433463  1.078043e+06"
      ]
     },
     "execution_count": 8,
     "metadata": {},
     "output_type": "execute_result"
    }
   ],
   "source": [
    "dm0.head(3)"
   ]
  },
  {
   "cell_type": "code",
   "execution_count": 9,
   "metadata": {},
   "outputs": [],
   "source": [
    "dm0.index.name = None"
   ]
  },
  {
   "cell_type": "code",
   "execution_count": 10,
   "metadata": {},
   "outputs": [],
   "source": [
    "dm0['diff'] = dm0['close']-dm0['open']"
   ]
  },
  {
   "cell_type": "code",
   "execution_count": 11,
   "metadata": {},
   "outputs": [
    {
     "data": {
      "text/html": [
       "<div>\n",
       "<style scoped>\n",
       "    .dataframe tbody tr th:only-of-type {\n",
       "        vertical-align: middle;\n",
       "    }\n",
       "\n",
       "    .dataframe tbody tr th {\n",
       "        vertical-align: top;\n",
       "    }\n",
       "\n",
       "    .dataframe thead th {\n",
       "        text-align: right;\n",
       "    }\n",
       "</style>\n",
       "<table border=\"1\" class=\"dataframe\">\n",
       "  <thead>\n",
       "    <tr style=\"text-align: right;\">\n",
       "      <th></th>\n",
       "      <th>open</th>\n",
       "      <th>high</th>\n",
       "      <th>low</th>\n",
       "      <th>close</th>\n",
       "      <th>volume</th>\n",
       "      <th>diff</th>\n",
       "    </tr>\n",
       "  </thead>\n",
       "  <tbody>\n",
       "    <tr>\n",
       "      <th>A</th>\n",
       "      <td>49.187863</td>\n",
       "      <td>49.600059</td>\n",
       "      <td>48.782026</td>\n",
       "      <td>49.202025</td>\n",
       "      <td>2.338039e+06</td>\n",
       "      <td>0.014162</td>\n",
       "    </tr>\n",
       "    <tr>\n",
       "      <th>AAL</th>\n",
       "      <td>38.390495</td>\n",
       "      <td>38.955554</td>\n",
       "      <td>37.825605</td>\n",
       "      <td>38.393252</td>\n",
       "      <td>9.390321e+06</td>\n",
       "      <td>0.002757</td>\n",
       "    </tr>\n",
       "    <tr>\n",
       "      <th>AAP</th>\n",
       "      <td>132.439631</td>\n",
       "      <td>133.818297</td>\n",
       "      <td>131.036025</td>\n",
       "      <td>132.433463</td>\n",
       "      <td>1.078043e+06</td>\n",
       "      <td>-0.006168</td>\n",
       "    </tr>\n",
       "  </tbody>\n",
       "</table>\n",
       "</div>"
      ],
      "text/plain": [
       "           open        high         low       close        volume      diff\n",
       "A     49.187863   49.600059   48.782026   49.202025  2.338039e+06  0.014162\n",
       "AAL   38.390495   38.955554   37.825605   38.393252  9.390321e+06  0.002757\n",
       "AAP  132.439631  133.818297  131.036025  132.433463  1.078043e+06 -0.006168"
      ]
     },
     "execution_count": 11,
     "metadata": {},
     "output_type": "execute_result"
    }
   ],
   "source": [
    "dm0.head(3)"
   ]
  },
  {
   "cell_type": "code",
   "execution_count": 12,
   "metadata": {},
   "outputs": [
    {
     "data": {
      "text/plain": [
       "0.1966719618743582"
      ]
     },
     "execution_count": 12,
     "metadata": {},
     "output_type": "execute_result"
    }
   ],
   "source": [
    "dm0['diff'].max()"
   ]
  },
  {
   "cell_type": "code",
   "execution_count": 13,
   "metadata": {},
   "outputs": [
    {
     "data": {
      "text/html": [
       "<div>\n",
       "<style scoped>\n",
       "    .dataframe tbody tr th:only-of-type {\n",
       "        vertical-align: middle;\n",
       "    }\n",
       "\n",
       "    .dataframe tbody tr th {\n",
       "        vertical-align: top;\n",
       "    }\n",
       "\n",
       "    .dataframe thead th {\n",
       "        text-align: right;\n",
       "    }\n",
       "</style>\n",
       "<table border=\"1\" class=\"dataframe\">\n",
       "  <thead>\n",
       "    <tr style=\"text-align: right;\">\n",
       "      <th></th>\n",
       "      <th>open</th>\n",
       "      <th>high</th>\n",
       "      <th>low</th>\n",
       "      <th>close</th>\n",
       "      <th>volume</th>\n",
       "      <th>diff</th>\n",
       "    </tr>\n",
       "  </thead>\n",
       "  <tbody>\n",
       "    <tr>\n",
       "      <th>HUM</th>\n",
       "      <td>162.663558</td>\n",
       "      <td>164.425812</td>\n",
       "      <td>161.094037</td>\n",
       "      <td>162.812923</td>\n",
       "      <td>1.441347e+06</td>\n",
       "      <td>0.149365</td>\n",
       "    </tr>\n",
       "    <tr>\n",
       "      <th>MTD</th>\n",
       "      <td>356.100826</td>\n",
       "      <td>359.263210</td>\n",
       "      <td>353.079464</td>\n",
       "      <td>356.297498</td>\n",
       "      <td>1.703652e+05</td>\n",
       "      <td>0.196672</td>\n",
       "    </tr>\n",
       "    <tr>\n",
       "      <th>PCLN</th>\n",
       "      <td>1312.678483</td>\n",
       "      <td>1324.183184</td>\n",
       "      <td>1300.652212</td>\n",
       "      <td>1312.873538</td>\n",
       "      <td>6.302927e+05</td>\n",
       "      <td>0.195055</td>\n",
       "    </tr>\n",
       "    <tr>\n",
       "      <th>SHW</th>\n",
       "      <td>261.271160</td>\n",
       "      <td>263.437920</td>\n",
       "      <td>259.232103</td>\n",
       "      <td>261.451096</td>\n",
       "      <td>7.121122e+05</td>\n",
       "      <td>0.179936</td>\n",
       "    </tr>\n",
       "    <tr>\n",
       "      <th>TDG</th>\n",
       "      <td>214.956585</td>\n",
       "      <td>216.936464</td>\n",
       "      <td>212.993078</td>\n",
       "      <td>215.104202</td>\n",
       "      <td>5.122642e+05</td>\n",
       "      <td>0.147617</td>\n",
       "    </tr>\n",
       "  </tbody>\n",
       "</table>\n",
       "</div>"
      ],
      "text/plain": [
       "             open         high          low        close        volume  \\\n",
       "HUM    162.663558   164.425812   161.094037   162.812923  1.441347e+06   \n",
       "MTD    356.100826   359.263210   353.079464   356.297498  1.703652e+05   \n",
       "PCLN  1312.678483  1324.183184  1300.652212  1312.873538  6.302927e+05   \n",
       "SHW    261.271160   263.437920   259.232103   261.451096  7.121122e+05   \n",
       "TDG    214.956585   216.936464   212.993078   215.104202  5.122642e+05   \n",
       "\n",
       "          diff  \n",
       "HUM   0.149365  \n",
       "MTD   0.196672  \n",
       "PCLN  0.195055  \n",
       "SHW   0.179936  \n",
       "TDG   0.147617  "
      ]
     },
     "execution_count": 13,
     "metadata": {},
     "output_type": "execute_result"
    }
   ],
   "source": [
    "dm0[dm0['diff']>0.14].head(10)"
   ]
  },
  {
   "cell_type": "markdown",
   "metadata": {},
   "source": [
    "#### Now we know which is the instruments that has the highests profit in mean function. We will use the instruments MTD and PCLN for make tests and see which is the better choice to invest."
   ]
  },
  {
   "cell_type": "markdown",
   "metadata": {},
   "source": [
    "#### First let's get modeling ours news datasets."
   ]
  },
  {
   "cell_type": "code",
   "execution_count": 14,
   "metadata": {},
   "outputs": [],
   "source": [
    "dfsh = df[df['Name']=='SHW']\n",
    "dfpc = df[df['Name']=='PCLN']"
   ]
  },
  {
   "cell_type": "code",
   "execution_count": 15,
   "metadata": {},
   "outputs": [],
   "source": [
    "dfsh = dfsh.reset_index(drop=True)\n",
    "dfpc = dfpc.reset_index(drop=True)"
   ]
  },
  {
   "cell_type": "code",
   "execution_count": 16,
   "metadata": {},
   "outputs": [
    {
     "data": {
      "text/plain": [
       "(            date     open     high      low    close  volume  Name\n",
       " 1257  2018-02-06  1800.01  1864.00  1800.01  1858.66  564479  PCLN\n",
       " 1258  2018-02-07  1847.39  1900.37  1836.68  1882.68  491231  PCLN,\n",
       "             date    open    high      low   close   volume Name\n",
       " 1257  2018-02-06  388.00  406.04  383.885  405.00  1057495  SHW\n",
       " 1258  2018-02-07  405.71  411.00  402.630  403.48   793075  SHW)"
      ]
     },
     "execution_count": 16,
     "metadata": {},
     "output_type": "execute_result"
    }
   ],
   "source": [
    "dfpc.tail(2), dfsh.tail(2)"
   ]
  },
  {
   "cell_type": "code",
   "execution_count": 17,
   "metadata": {},
   "outputs": [],
   "source": [
    "dfsh['close1'] = dfsh['close'].shift(-1)\n",
    "dfpc['close1'] = dfpc['close'].shift(-1)"
   ]
  },
  {
   "cell_type": "code",
   "execution_count": 18,
   "metadata": {},
   "outputs": [],
   "source": [
    "dfsh = dfsh.dropna()\n",
    "dfpc = dfpc.dropna()"
   ]
  },
  {
   "cell_type": "code",
   "execution_count": 19,
   "metadata": {},
   "outputs": [],
   "source": [
    "dfsh['LogReturn'] = np.log(dfsh['close'].shift(-1)) - np.log(dfsh['close'])\n",
    "dfpc['LogReturn'] = np.log(dfpc['close'].shift(-1)) - np.log(dfpc['close'])\n",
    "dfsh = dfsh.dropna()\n",
    "dfpc = dfpc.dropna()"
   ]
  },
  {
   "cell_type": "markdown",
   "metadata": {},
   "source": [
    "#### Let's make some hypotesis testing in a column of our investments's returns in logarithm. Before we will make a Standardization."
   ]
  },
  {
   "cell_type": "code",
   "execution_count": 20,
   "metadata": {},
   "outputs": [
    {
     "name": "stdout",
     "output_type": "stream",
     "text": [
      "1.9371314165283473\n"
     ]
    }
   ],
   "source": [
    "sxb = dfsh['LogReturn'].mean()\n",
    "ss = dfsh['LogReturn'].std(ddof=1)\n",
    "sn = dfsh['LogReturn'].shape[0]\n",
    "szhat = (sxb-0)/(ss/(sn**0.5))\n",
    "print(szhat)"
   ]
  },
  {
   "cell_type": "code",
   "execution_count": 21,
   "metadata": {},
   "outputs": [
    {
     "name": "stdout",
     "output_type": "stream",
     "text": [
      "1.6826549761367642\n"
     ]
    }
   ],
   "source": [
    "pxb = dfpc['LogReturn'].mean()\n",
    "ps = dfpc['LogReturn'].std(ddof=1)\n",
    "pn = dfpc['LogReturn'].shape[0]\n",
    "pzhat = (pxb-0)/(ps/(pn**0.5))\n",
    "print(pzhat)"
   ]
  },
  {
   "cell_type": "code",
   "execution_count": 22,
   "metadata": {},
   "outputs": [
    {
     "name": "stdout",
     "output_type": "stream",
     "text": [
      "-1.9599639845400545 1.9599639845400545\n",
      "At the significance level of 5%\n",
      "Shall we reject the hypothese in the instrument SHW?: False\n",
      "Shall we reject the hypothese in the instrument PCLN?: False\n"
     ]
    }
   ],
   "source": [
    "# This is the first hypothese of the instrument SHW and PCLN.\n",
    "alpha = 0.05\n",
    "zleft = norm.ppf(alpha/2,0,1)\n",
    "zright = -zleft\n",
    "print(zleft, zright)\n",
    "print('At the significance level of 5%')\n",
    "print('Shall we reject the hypothese in the instrument SHW?:', szhat>zright or szhat<zleft)\n",
    "print('Shall we reject the hypothese in the instrument PCLN?:', pzhat>zright or pzhat<zleft)"
   ]
  },
  {
   "cell_type": "code",
   "execution_count": 23,
   "metadata": {},
   "outputs": [
    {
     "name": "stdout",
     "output_type": "stream",
     "text": [
      "0.026364640582674292 is the p-value of SHW\n",
      "0.046220951222647244 is the p-value of PCLN\n",
      "At the significance level of 5%\n",
      "Shall we reject? True\n",
      "Shall we reject? True\n"
     ]
    }
   ],
   "source": [
    "alpha = 0.05\n",
    "s_pvalue = 1 - norm.cdf(abs(szhat), 0, 1)\n",
    "p_pvalue = 1 - norm.cdf(abs(pzhat), 0, 1)\n",
    "print(s_pvalue, 'is the p-value of SHW')\n",
    "print(p_pvalue, 'is the p-value of PCLN')\n",
    "print('At the significance level of 5%')\n",
    "print('Shall we reject?', s_pvalue < alpha)\n",
    "print('Shall we reject?', p_pvalue < alpha)"
   ]
  },
  {
   "cell_type": "markdown",
   "metadata": {},
   "source": [
    "#### With the p-values that we got above we can see that we only can calculate the probability of the instrument SHW drop over even 2.5% by each operation, in the instrument PCLN we can calculate the chance of this instrument drop over even 4.5% by each operation."
   ]
  },
  {
   "cell_type": "code",
   "execution_count": 24,
   "metadata": {},
   "outputs": [
    {
     "name": "stdout",
     "output_type": "stream",
     "text": [
      "The chance of our investment PCLN drop over 4.5% is: 0.0025383949104285618 %\n",
      "The chance of our investment SHW drop over 2.5% is: 0.0254380296103051 %\n"
     ]
    }
   ],
   "source": [
    "pcmu = dfpc['LogReturn'].mean()\n",
    "pcsigma = dfpc['LogReturn'].std(ddof=-1)\n",
    "\n",
    "shmu = dfsh['LogReturn'].mean()\n",
    "shsigma = dfsh['LogReturn'].std(ddof=-1)\n",
    "print('The chance of our investment PCLN drop over 4.5% is:', norm.cdf(-0.045, pcmu, pcsigma),'%')\n",
    "print('The chance of our investment SHW drop over 2.5% is:', norm.cdf(-0.025, shmu, shsigma),'%')"
   ]
  },
  {
   "cell_type": "markdown",
   "metadata": {},
   "source": [
    "In the line above we can see that the instrument PCLN have 0.2% chance to drop over 4.5% in each day, and the instrument SHW also have 0.2% chance to drop over 2.5% in each operation."
   ]
  },
  {
   "cell_type": "markdown",
   "metadata": {},
   "source": [
    "#### Now we are going to see whether these instruments has a high chance get loss in determinate counting of days."
   ]
  },
  {
   "cell_type": "code",
   "execution_count": 25,
   "metadata": {},
   "outputs": [],
   "source": [
    "monthpcmu = 30*pcmu\n",
    "monthpcsigma = (30**0.5)*pcsigma\n",
    "\n",
    "monthshmu = 30*shmu\n",
    "monthshsigma = (30**0.5)*shsigma"
   ]
  },
  {
   "cell_type": "code",
   "execution_count": 79,
   "metadata": {},
   "outputs": [
    {
     "name": "stdout",
     "output_type": "stream",
     "text": [
      "The chance of the instrument PCLN drop over 10% in 30 days is of: 0.0841383079355717 %\n",
      "The chance of the instrument SHW drop over 10% in 30 days is of: 0.04594715027125671 %\n"
     ]
    }
   ],
   "source": [
    "print('The chance of the instrument PCLN drop over 10% in 30 days is of:', norm.cdf(-0.10, monthpcmu, monthpcsigma),'%')\n",
    "print('The chance of the instrument SHW drop over 10% in 30 days is of:', norm.cdf(-0.10, monthshmu, monthshsigma),'%')"
   ]
  },
  {
   "cell_type": "markdown",
   "metadata": {},
   "source": [
    "The instruments PCLN has 8.4% chance to drop over 10% in a month, and the SHW has 4.5% chance of having a monthly loss more than 10%."
   ]
  },
  {
   "cell_type": "code",
   "execution_count": 27,
   "metadata": {},
   "outputs": [
    {
     "name": "stdout",
     "output_type": "stream",
     "text": [
      "The chance of the instrument PCLN drop over 15% in 30 days is of: 0.02639921537486727 %\n"
     ]
    }
   ],
   "source": [
    "print('The chance of the instrument PCLN drop over 15% in 30 days is of:', (norm.cdf(-0.15, monthpcmu, monthpcsigma)),'%')"
   ]
  },
  {
   "cell_type": "markdown",
   "metadata": {},
   "source": [
    "With the line above we can see that the instrument PCLN has 8.4% chance of dropping over 15% monthly."
   ]
  },
  {
   "cell_type": "code",
   "execution_count": 71,
   "metadata": {},
   "outputs": [],
   "source": [
    "yearpcmu = 365*pcmu\n",
    "yearshmu = 365*shmu\n",
    "\n",
    "yearpcsigma = (365**0.5)*pcsigma\n",
    "yearshsigma = (365**0.5)*shsigma"
   ]
  },
  {
   "cell_type": "code",
   "execution_count": 77,
   "metadata": {},
   "outputs": [
    {
     "name": "stdout",
     "output_type": "stream",
     "text": [
      "The chance of the instrument PCLN drop over 20% in a year is of: 0.06078000009372767\n"
     ]
    }
   ],
   "source": [
    "print('The chance of the instrument PCLN drop over 20% in a year is of:', norm.cdf(-0.20, yearpcmu, yearpcsigma))"
   ]
  },
  {
   "cell_type": "code",
   "execution_count": 78,
   "metadata": {},
   "outputs": [
    {
     "name": "stdout",
     "output_type": "stream",
     "text": [
      "The chance of the instrument SHW drop over 20% in a year is of: 0.03292956648456705\n"
     ]
    }
   ],
   "source": [
    "print('The chance of the instrument SHW drop over 20% in a year is of:', norm.cdf(-0.20, yearshmu, yearshsigma))"
   ]
  },
  {
   "cell_type": "markdown",
   "metadata": {},
   "source": [
    "#### Now let´s calculate with the VAR or value of risk."
   ]
  },
  {
   "cell_type": "markdown",
   "metadata": {},
   "source": [
    "We will use the VAR to find out the percentage of risk in both instruments."
   ]
  },
  {
   "cell_type": "code",
   "execution_count": 28,
   "metadata": {
    "scrolled": true
   },
   "outputs": [
    {
     "name": "stdout",
     "output_type": "stream",
     "text": [
      "The instrument SHW have 5% chance to have a return of: -0.02094710762177491\n"
     ]
    }
   ],
   "source": [
    "print('The instrument SHW have 5% chance to have a return of:', norm.ppf(0.05, shmu, shsigma))"
   ]
  },
  {
   "cell_type": "markdown",
   "metadata": {},
   "source": [
    " With the method VAR we can see that the instrument SHW has 5% chance of falling over 2% in each operation."
   ]
  },
  {
   "cell_type": "code",
   "execution_count": 29,
   "metadata": {},
   "outputs": [
    {
     "name": "stdout",
     "output_type": "stream",
     "text": [
      "The instrument PCLN have 5% chance to have a return of: -0.02609468508417123\n"
     ]
    }
   ],
   "source": [
    "print('The instrument PCLN have 5% chance to have a return of:', norm.ppf(0.05, pcmu, pcsigma))"
   ]
  },
  {
   "cell_type": "markdown",
   "metadata": {},
   "source": [
    "As we can see in line above, the PCLN has 5% chance of dropping over 2.6% in each operation."
   ]
  },
  {
   "cell_type": "markdown",
   "metadata": {},
   "source": [
    "..."
   ]
  },
  {
   "cell_type": "markdown",
   "metadata": {},
   "source": [
    "#### Now let's see the increase in earnings with some graphics and explaining the information."
   ]
  },
  {
   "cell_type": "code",
   "execution_count": 30,
   "metadata": {},
   "outputs": [
    {
     "data": {
      "text/html": [
       "<div>\n",
       "<style scoped>\n",
       "    .dataframe tbody tr th:only-of-type {\n",
       "        vertical-align: middle;\n",
       "    }\n",
       "\n",
       "    .dataframe tbody tr th {\n",
       "        vertical-align: top;\n",
       "    }\n",
       "\n",
       "    .dataframe thead th {\n",
       "        text-align: right;\n",
       "    }\n",
       "</style>\n",
       "<table border=\"1\" class=\"dataframe\">\n",
       "  <thead>\n",
       "    <tr style=\"text-align: right;\">\n",
       "      <th></th>\n",
       "      <th>date</th>\n",
       "      <th>open</th>\n",
       "      <th>high</th>\n",
       "      <th>low</th>\n",
       "      <th>close</th>\n",
       "      <th>volume</th>\n",
       "      <th>Name</th>\n",
       "      <th>close1</th>\n",
       "      <th>LogReturn</th>\n",
       "    </tr>\n",
       "  </thead>\n",
       "  <tbody>\n",
       "    <tr>\n",
       "      <th>0</th>\n",
       "      <td>2013-02-08</td>\n",
       "      <td>163.14</td>\n",
       "      <td>164.00</td>\n",
       "      <td>162.68</td>\n",
       "      <td>163.77</td>\n",
       "      <td>379624</td>\n",
       "      <td>SHW</td>\n",
       "      <td>164.50</td>\n",
       "      <td>0.004448</td>\n",
       "    </tr>\n",
       "    <tr>\n",
       "      <th>1</th>\n",
       "      <td>2013-02-11</td>\n",
       "      <td>163.44</td>\n",
       "      <td>164.69</td>\n",
       "      <td>162.65</td>\n",
       "      <td>164.50</td>\n",
       "      <td>559521</td>\n",
       "      <td>SHW</td>\n",
       "      <td>164.67</td>\n",
       "      <td>0.001033</td>\n",
       "    </tr>\n",
       "    <tr>\n",
       "      <th>2</th>\n",
       "      <td>2013-02-12</td>\n",
       "      <td>162.90</td>\n",
       "      <td>165.00</td>\n",
       "      <td>162.26</td>\n",
       "      <td>164.67</td>\n",
       "      <td>701728</td>\n",
       "      <td>SHW</td>\n",
       "      <td>165.45</td>\n",
       "      <td>0.004726</td>\n",
       "    </tr>\n",
       "  </tbody>\n",
       "</table>\n",
       "</div>"
      ],
      "text/plain": [
       "         date    open    high     low   close  volume Name  close1  LogReturn\n",
       "0  2013-02-08  163.14  164.00  162.68  163.77  379624  SHW  164.50   0.004448\n",
       "1  2013-02-11  163.44  164.69  162.65  164.50  559521  SHW  164.67   0.001033\n",
       "2  2013-02-12  162.90  165.00  162.26  164.67  701728  SHW  165.45   0.004726"
      ]
     },
     "execution_count": 30,
     "metadata": {},
     "output_type": "execute_result"
    }
   ],
   "source": [
    "dfsh.head(3)"
   ]
  },
  {
   "cell_type": "markdown",
   "metadata": {},
   "source": [
    "#### Let's get starded, creating a column called diff that is the difference between of return."
   ]
  },
  {
   "cell_type": "code",
   "execution_count": 31,
   "metadata": {},
   "outputs": [
    {
     "data": {
      "text/html": [
       "<div>\n",
       "<style scoped>\n",
       "    .dataframe tbody tr th:only-of-type {\n",
       "        vertical-align: middle;\n",
       "    }\n",
       "\n",
       "    .dataframe tbody tr th {\n",
       "        vertical-align: top;\n",
       "    }\n",
       "\n",
       "    .dataframe thead th {\n",
       "        text-align: right;\n",
       "    }\n",
       "</style>\n",
       "<table border=\"1\" class=\"dataframe\">\n",
       "  <thead>\n",
       "    <tr style=\"text-align: right;\">\n",
       "      <th></th>\n",
       "      <th>date</th>\n",
       "      <th>open</th>\n",
       "      <th>high</th>\n",
       "      <th>low</th>\n",
       "      <th>close</th>\n",
       "      <th>volume</th>\n",
       "      <th>Name</th>\n",
       "      <th>close1</th>\n",
       "      <th>LogReturn</th>\n",
       "      <th>diff</th>\n",
       "    </tr>\n",
       "  </thead>\n",
       "  <tbody>\n",
       "    <tr>\n",
       "      <th>0</th>\n",
       "      <td>2013-02-08</td>\n",
       "      <td>693.55</td>\n",
       "      <td>702.0400</td>\n",
       "      <td>691.4739</td>\n",
       "      <td>700.83</td>\n",
       "      <td>468310</td>\n",
       "      <td>PCLN</td>\n",
       "      <td>696.11</td>\n",
       "      <td>-0.006758</td>\n",
       "      <td>-4.72</td>\n",
       "    </tr>\n",
       "    <tr>\n",
       "      <th>1</th>\n",
       "      <td>2013-02-11</td>\n",
       "      <td>699.68</td>\n",
       "      <td>699.9999</td>\n",
       "      <td>692.1600</td>\n",
       "      <td>696.11</td>\n",
       "      <td>301513</td>\n",
       "      <td>PCLN</td>\n",
       "      <td>703.38</td>\n",
       "      <td>0.010390</td>\n",
       "      <td>7.27</td>\n",
       "    </tr>\n",
       "    <tr>\n",
       "      <th>2</th>\n",
       "      <td>2013-02-12</td>\n",
       "      <td>696.80</td>\n",
       "      <td>705.7700</td>\n",
       "      <td>695.3700</td>\n",
       "      <td>703.38</td>\n",
       "      <td>487096</td>\n",
       "      <td>PCLN</td>\n",
       "      <td>704.17</td>\n",
       "      <td>0.001123</td>\n",
       "      <td>0.79</td>\n",
       "    </tr>\n",
       "  </tbody>\n",
       "</table>\n",
       "</div>"
      ],
      "text/plain": [
       "         date    open      high       low   close  volume  Name  close1  \\\n",
       "0  2013-02-08  693.55  702.0400  691.4739  700.83  468310  PCLN  696.11   \n",
       "1  2013-02-11  699.68  699.9999  692.1600  696.11  301513  PCLN  703.38   \n",
       "2  2013-02-12  696.80  705.7700  695.3700  703.38  487096  PCLN  704.17   \n",
       "\n",
       "   LogReturn  diff  \n",
       "0  -0.006758 -4.72  \n",
       "1   0.010390  7.27  \n",
       "2   0.001123  0.79  "
      ]
     },
     "execution_count": 31,
     "metadata": {},
     "output_type": "execute_result"
    }
   ],
   "source": [
    "dfsh['diff'] = dfsh['close1']-dfsh['close']\n",
    "\n",
    "dfpc['diff'] = dfpc['close1']-dfpc['close']\n",
    "dfpc.head(3)"
   ]
  },
  {
   "cell_type": "code",
   "execution_count": 32,
   "metadata": {},
   "outputs": [
    {
     "data": {
      "text/plain": [
       "<AxesSubplot:>"
      ]
     },
     "execution_count": 32,
     "metadata": {},
     "output_type": "execute_result"
    },
    {
     "data": {
      "image/png": "[encoded data removed]",
      "text/plain": [
       "<Figure size 1224x504 with 1 Axes>"
      ]
     },
     "metadata": {
      "needs_background": "light"
     },
     "output_type": "display_data"
    }
   ],
   "source": [
    "dfsh['diff'].plot(legend=True, figsize=(17,7), color='green')"
   ]
  },
  {
   "cell_type": "code",
   "execution_count": 36,
   "metadata": {},
   "outputs": [
    {
     "data": {
      "text/plain": [
       "<AxesSubplot:>"
      ]
     },
     "execution_count": 36,
     "metadata": {},
     "output_type": "execute_result"
    },
    {
     "data": {
      "image/png": "[encoded data removed]",
      "text/plain": [
       "<Figure size 1224x504 with 1 Axes>"
      ]
     },
     "metadata": {
      "needs_background": "light"
     },
     "output_type": "display_data"
    }
   ],
   "source": [
    "dfpc['diff'].plot(legend=True, figsize=(17,7), color='blue')"
   ]
  },
  {
   "cell_type": "markdown",
   "metadata": {},
   "source": [
    "#### With the two graphs above, we can't see clearly, but we can say that these instrument had many losses."
   ]
  },
  {
   "cell_type": "markdown",
   "metadata": {},
   "source": [
    "#### Now we will find out the percentage of losses based in total number of operations."
   ]
  },
  {
   "cell_type": "code",
   "execution_count": 61,
   "metadata": {},
   "outputs": [],
   "source": [
    "shdiffg = [c for c in dfsh['diff'] if c >= 0]\n",
    "shdiffl = [c for c in dfsh['diff'] if c < 0]"
   ]
  },
  {
   "cell_type": "code",
   "execution_count": 62,
   "metadata": {},
   "outputs": [],
   "source": [
    "shdiffl = pd.DataFrame(shdiffl)\n",
    "shdiffg = pd.DataFrame(shdiffg)"
   ]
  },
  {
   "cell_type": "code",
   "execution_count": 63,
   "metadata": {},
   "outputs": [
    {
     "data": {
      "text/plain": [
       "(580, 677)"
      ]
     },
     "execution_count": 63,
     "metadata": {},
     "output_type": "execute_result"
    }
   ],
   "source": [
    "len(shdiffl), len(shdiffg)"
   ]
  },
  {
   "cell_type": "code",
   "execution_count": 64,
   "metadata": {},
   "outputs": [],
   "source": [
    "pcdiffg = [c for c in dfpc['diff'] if c >= 0]\n",
    "pcdiffl = [c for c in dfpc['diff'] if c < 0]"
   ]
  },
  {
   "cell_type": "code",
   "execution_count": 66,
   "metadata": {},
   "outputs": [],
   "source": [
    "pcdiffl = pd.DataFrame(pcdiffl)\n",
    "pcdiffg = pd.DataFrame(pcdiffg)"
   ]
  },
  {
   "cell_type": "code",
   "execution_count": 67,
   "metadata": {},
   "outputs": [
    {
     "data": {
      "text/plain": [
       "(597, 660)"
      ]
     },
     "execution_count": 67,
     "metadata": {},
     "output_type": "execute_result"
    }
   ],
   "source": [
    "len(pcdiffl), len(pcdiffg)"
   ]
  },
  {
   "cell_type": "code",
   "execution_count": 38,
   "metadata": {},
   "outputs": [
    {
     "data": {
      "text/plain": [
       "(1257, 1257)"
      ]
     },
     "execution_count": 38,
     "metadata": {},
     "output_type": "execute_result"
    }
   ],
   "source": [
    "len(dfpc), len(dfsh)"
   ]
  },
  {
   "cell_type": "markdown",
   "metadata": {},
   "source": [
    "..."
   ]
  },
  {
   "cell_type": "code",
   "execution_count": 57,
   "metadata": {},
   "outputs": [
    {
     "data": {
      "text/plain": [
       "59707.5"
      ]
     },
     "execution_count": 57,
     "metadata": {},
     "output_type": "execute_result"
    }
   ],
   "source": [
    "1257*47.5"
   ]
  },
  {
   "cell_type": "code",
   "execution_count": 69,
   "metadata": {},
   "outputs": [
    {
     "data": {
      "text/plain": [
       "58073.4"
      ]
     },
     "execution_count": 69,
     "metadata": {},
     "output_type": "execute_result"
    }
   ],
   "source": [
    "1257*46.2"
   ]
  },
  {
   "cell_type": "markdown",
   "metadata": {},
   "source": [
    "+  ..."
   ]
  },
  {
   "cell_type": "markdown",
   "metadata": {},
   "source": [
    "### Conclusions of the analysis of the instrument PCLN:"
   ]
  },
  {
   "cell_type": "markdown",
   "metadata": {},
   "source": [
    "+ The instrument PCLN have 0.2% chance to have a loss of 4.5% per operation.\n",
    "+ The instrument PCLN have 8.4% chance to have a loss of 10% per month with one operation per day.\n",
    "+ The instrument PCLN have 6% chance to have a loss of 20% per year with one operation per day.\n",
    "\n",
    "+ Using the value risk method, we know that the instrument PCLN have 5% chance to have a return 2.6% negative.\n",
    "\n",
    "+ In a total of 1257 operations, the instrument PCLN had 47.5% of losses."
   ]
  },
  {
   "cell_type": "markdown",
   "metadata": {},
   "source": [
    "### Conclisions of the analysis of the instrument SHW:"
   ]
  },
  {
   "cell_type": "markdown",
   "metadata": {},
   "source": [
    "+ The instrument SHW have 2.5% chance to have a loss of 2.5% per operation.\n",
    "+ The instrument SHW have 4.5% chance to have a loss of 10% per month with one operation per day.\n",
    "+ The instrument SHW have 3.2% chance to have a loss of 20% per year with one operation per day.\n",
    "\n",
    "+ Using the value risk method, we know that the instrument SHW have 5% chance to have a return 2% negative.\n",
    "\n",
    "+ In a total of 1257 operations, the instrument SHW had 46.2% of losses."
   ]
  },
  {
   "cell_type": "markdown",
   "metadata": {},
   "source": [
    "# Thanks for analysing with me. :)"
   ]
  }
 ],
 "metadata": {
  "kernelspec": {
   "display_name": "Python 3",
   "language": "python",
   "name": "python3"
  },
  "language_info": {
   "codemirror_mode": {
    "name": "ipython",
    "version": 3
   },
   "file_extension": ".py",
   "mimetype": "text/x-python",
   "name": "python",
   "nbconvert_exporter": "python",
   "pygments_lexer": "ipython3",
   "version": "3.8.7"
  }
 },
 "nbformat": 4,
 "nbformat_minor": 4
}
