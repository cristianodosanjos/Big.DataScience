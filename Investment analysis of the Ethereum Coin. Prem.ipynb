{
 "cells": [
  {
   "cell_type": "markdown",
   "metadata": {},
   "source": [
    "# ...Made by Cristiano Dos Anjos...\n",
    "cristianodosanjos019@gmail.com"
   ]
  },
  {
   "cell_type": "markdown",
   "metadata": {},
   "source": [
    "#### ..."
   ]
  },
  {
   "cell_type": "markdown",
   "metadata": {},
   "source": [
    "## This is a project about the crypto coin Ethereum."
   ]
  },
  {
   "cell_type": "markdown",
   "metadata": {},
   "source": [
    " We are going to make a great analyze and a create a predicter model using a historical data of investments in a crypto coin called Ethereum."
   ]
  },
  {
   "cell_type": "markdown",
   "metadata": {},
   "source": [
    "Ethereum is a decentralized, open-source blockchain featuring smart contract functionality. Ethereum (ETH) is the native cryptocurrency of the platform. It is the second-largest cryptocurrency by market capitalization, after Bitcoin. Ethereum is the most actively used blockchain.\n",
    "\n",
    "#### We got this data from Kaggle. \n",
    "+ In this data we have 34497 records in line.\n",
    "+ Our main target is the column Close.\n",
    "+ Date used in this dataset, year of 2016-05 was the initial records and 2020-06 was the final of ours records."
   ]
  },
  {
   "cell_type": "code",
   "execution_count": 1,
   "metadata": {},
   "outputs": [],
   "source": [
    "import pandas as pd\n",
    "import numpy as np\n",
    "import matplotlib.pyplot as plt\n",
    "import seaborn as sns\n",
    "from scipy.stats import norm\n",
    "from sklearn.linear_model import LinearRegression\n",
    "from sklearn.model_selection import train_test_split\n",
    "import statsmodels.formula.api as sm\n",
    "sns.set_style('whitegrid')"
   ]
  },
  {
   "cell_type": "code",
   "execution_count": 2,
   "metadata": {},
   "outputs": [
    {
     "data": {
      "text/html": [
       "<div>\n",
       "<style scoped>\n",
       "    .dataframe tbody tr th:only-of-type {\n",
       "        vertical-align: middle;\n",
       "    }\n",
       "\n",
       "    .dataframe tbody tr th {\n",
       "        vertical-align: top;\n",
       "    }\n",
       "\n",
       "    .dataframe thead th {\n",
       "        text-align: right;\n",
       "    }\n",
       "</style>\n",
       "<table border=\"1\" class=\"dataframe\">\n",
       "  <thead>\n",
       "    <tr style=\"text-align: right;\">\n",
       "      <th></th>\n",
       "      <th>Unix Timestamp</th>\n",
       "      <th>Date</th>\n",
       "      <th>Symbol</th>\n",
       "      <th>Open</th>\n",
       "      <th>High</th>\n",
       "      <th>Low</th>\n",
       "      <th>Close</th>\n",
       "      <th>Volume</th>\n",
       "    </tr>\n",
       "  </thead>\n",
       "  <tbody>\n",
       "    <tr>\n",
       "      <th>0</th>\n",
       "      <td>1586995200000</td>\n",
       "      <td>2020-04-16 00:00:00</td>\n",
       "      <td>ETHUSD</td>\n",
       "      <td>152.94</td>\n",
       "      <td>152.94</td>\n",
       "      <td>150.39</td>\n",
       "      <td>150.39</td>\n",
       "      <td>650.188125</td>\n",
       "    </tr>\n",
       "    <tr>\n",
       "      <th>1</th>\n",
       "      <td>1586991600000</td>\n",
       "      <td>2020-04-15 23:00:00</td>\n",
       "      <td>ETHUSD</td>\n",
       "      <td>155.81</td>\n",
       "      <td>155.81</td>\n",
       "      <td>151.39</td>\n",
       "      <td>152.94</td>\n",
       "      <td>4277.567299</td>\n",
       "    </tr>\n",
       "    <tr>\n",
       "      <th>2</th>\n",
       "      <td>1586988000000</td>\n",
       "      <td>2020-04-15 22:00:00</td>\n",
       "      <td>ETHUSD</td>\n",
       "      <td>157.18</td>\n",
       "      <td>157.30</td>\n",
       "      <td>155.32</td>\n",
       "      <td>155.81</td>\n",
       "      <td>106.337279</td>\n",
       "    </tr>\n",
       "    <tr>\n",
       "      <th>3</th>\n",
       "      <td>1586984400000</td>\n",
       "      <td>2020-04-15 21:00:00</td>\n",
       "      <td>ETHUSD</td>\n",
       "      <td>158.04</td>\n",
       "      <td>158.31</td>\n",
       "      <td>157.16</td>\n",
       "      <td>157.18</td>\n",
       "      <td>55.244131</td>\n",
       "    </tr>\n",
       "    <tr>\n",
       "      <th>4</th>\n",
       "      <td>1586980800000</td>\n",
       "      <td>2020-04-15 20:00:00</td>\n",
       "      <td>ETHUSD</td>\n",
       "      <td>157.10</td>\n",
       "      <td>158.10</td>\n",
       "      <td>156.87</td>\n",
       "      <td>158.04</td>\n",
       "      <td>144.262622</td>\n",
       "    </tr>\n",
       "    <tr>\n",
       "      <th>...</th>\n",
       "      <td>...</td>\n",
       "      <td>...</td>\n",
       "      <td>...</td>\n",
       "      <td>...</td>\n",
       "      <td>...</td>\n",
       "      <td>...</td>\n",
       "      <td>...</td>\n",
       "      <td>...</td>\n",
       "    </tr>\n",
       "    <tr>\n",
       "      <th>34492</th>\n",
       "      <td>1462813200</td>\n",
       "      <td>2016-05-09 17:00:00</td>\n",
       "      <td>ETHUSD</td>\n",
       "      <td>9.83</td>\n",
       "      <td>9.83</td>\n",
       "      <td>9.48</td>\n",
       "      <td>9.49</td>\n",
       "      <td>329.553213</td>\n",
       "    </tr>\n",
       "    <tr>\n",
       "      <th>34493</th>\n",
       "      <td>1462809600</td>\n",
       "      <td>2016-05-09 16:00:00</td>\n",
       "      <td>ETHUSD</td>\n",
       "      <td>9.99</td>\n",
       "      <td>9.99</td>\n",
       "      <td>9.79</td>\n",
       "      <td>9.83</td>\n",
       "      <td>62.379450</td>\n",
       "    </tr>\n",
       "    <tr>\n",
       "      <th>34494</th>\n",
       "      <td>1462806000</td>\n",
       "      <td>2016-05-09 15:00:00</td>\n",
       "      <td>ETHUSD</td>\n",
       "      <td>10.00</td>\n",
       "      <td>10.00</td>\n",
       "      <td>9.99</td>\n",
       "      <td>9.99</td>\n",
       "      <td>10.973567</td>\n",
       "    </tr>\n",
       "    <tr>\n",
       "      <th>34495</th>\n",
       "      <td>1462802400</td>\n",
       "      <td>2016-05-09 14:00:00</td>\n",
       "      <td>ETHUSD</td>\n",
       "      <td>9.55</td>\n",
       "      <td>10.00</td>\n",
       "      <td>9.55</td>\n",
       "      <td>10.00</td>\n",
       "      <td>235.774075</td>\n",
       "    </tr>\n",
       "    <tr>\n",
       "      <th>34496</th>\n",
       "      <td>1462798800</td>\n",
       "      <td>2016-05-09 13:00:00</td>\n",
       "      <td>ETHUSD</td>\n",
       "      <td>0.00</td>\n",
       "      <td>12.00</td>\n",
       "      <td>0.00</td>\n",
       "      <td>9.55</td>\n",
       "      <td>432.562115</td>\n",
       "    </tr>\n",
       "  </tbody>\n",
       "</table>\n",
       "<p>34497 rows × 8 columns</p>\n",
       "</div>"
      ],
      "text/plain": [
       "       Unix Timestamp                 Date  Symbol    Open    High     Low  \\\n",
       "0       1586995200000  2020-04-16 00:00:00  ETHUSD  152.94  152.94  150.39   \n",
       "1       1586991600000  2020-04-15 23:00:00  ETHUSD  155.81  155.81  151.39   \n",
       "2       1586988000000  2020-04-15 22:00:00  ETHUSD  157.18  157.30  155.32   \n",
       "3       1586984400000  2020-04-15 21:00:00  ETHUSD  158.04  158.31  157.16   \n",
       "4       1586980800000  2020-04-15 20:00:00  ETHUSD  157.10  158.10  156.87   \n",
       "...               ...                  ...     ...     ...     ...     ...   \n",
       "34492      1462813200  2016-05-09 17:00:00  ETHUSD    9.83    9.83    9.48   \n",
       "34493      1462809600  2016-05-09 16:00:00  ETHUSD    9.99    9.99    9.79   \n",
       "34494      1462806000  2016-05-09 15:00:00  ETHUSD   10.00   10.00    9.99   \n",
       "34495      1462802400  2016-05-09 14:00:00  ETHUSD    9.55   10.00    9.55   \n",
       "34496      1462798800  2016-05-09 13:00:00  ETHUSD    0.00   12.00    0.00   \n",
       "\n",
       "        Close       Volume  \n",
       "0      150.39   650.188125  \n",
       "1      152.94  4277.567299  \n",
       "2      155.81   106.337279  \n",
       "3      157.18    55.244131  \n",
       "4      158.04   144.262622  \n",
       "...       ...          ...  \n",
       "34492    9.49   329.553213  \n",
       "34493    9.83    62.379450  \n",
       "34494    9.99    10.973567  \n",
       "34495   10.00   235.774075  \n",
       "34496    9.55   432.562115  \n",
       "\n",
       "[34497 rows x 8 columns]"
      ]
     },
     "metadata": {},
     "output_type": "display_data"
    }
   ],
   "source": [
    "df1 = pd.read_csv('C:/Users/7c4/Documents/Project-A/ETH_1H.csv')\n",
    "display(df1)"
   ]
  },
  {
   "cell_type": "markdown",
   "metadata": {},
   "source": [
    "#### Let's see if we have any missing data in this dataset."
   ]
  },
  {
   "cell_type": "code",
   "execution_count": 3,
   "metadata": {},
   "outputs": [
    {
     "data": {
      "text/plain": [
       "Unix Timestamp    0\n",
       "Date              0\n",
       "Symbol            0\n",
       "Open              0\n",
       "High              0\n",
       "Low               0\n",
       "Close             0\n",
       "Volume            0\n",
       "dtype: int64"
      ]
     },
     "execution_count": 3,
     "metadata": {},
     "output_type": "execute_result"
    }
   ],
   "source": [
    "df1.isna().sum()"
   ]
  },
  {
   "cell_type": "markdown",
   "metadata": {},
   "source": [
    "#### As we can see, we don't have any missing data."
   ]
  },
  {
   "cell_type": "markdown",
   "metadata": {},
   "source": [
    "#### Now, let's sort the our dataset according to date."
   ]
  },
  {
   "cell_type": "code",
   "execution_count": 4,
   "metadata": {},
   "outputs": [],
   "source": [
    "df = df1.sort_values(by='Date', ascending=True)"
   ]
  },
  {
   "cell_type": "code",
   "execution_count": 5,
   "metadata": {},
   "outputs": [],
   "source": [
    "df = df.reset_index(inplace=False)"
   ]
  },
  {
   "cell_type": "code",
   "execution_count": 6,
   "metadata": {},
   "outputs": [
    {
     "data": {
      "text/html": [
       "<div>\n",
       "<style scoped>\n",
       "    .dataframe tbody tr th:only-of-type {\n",
       "        vertical-align: middle;\n",
       "    }\n",
       "\n",
       "    .dataframe tbody tr th {\n",
       "        vertical-align: top;\n",
       "    }\n",
       "\n",
       "    .dataframe thead th {\n",
       "        text-align: right;\n",
       "    }\n",
       "</style>\n",
       "<table border=\"1\" class=\"dataframe\">\n",
       "  <thead>\n",
       "    <tr style=\"text-align: right;\">\n",
       "      <th></th>\n",
       "      <th>index</th>\n",
       "      <th>Unix Timestamp</th>\n",
       "      <th>Date</th>\n",
       "      <th>Symbol</th>\n",
       "      <th>Open</th>\n",
       "      <th>High</th>\n",
       "      <th>Low</th>\n",
       "      <th>Close</th>\n",
       "      <th>Volume</th>\n",
       "    </tr>\n",
       "  </thead>\n",
       "  <tbody>\n",
       "    <tr>\n",
       "      <th>0</th>\n",
       "      <td>34496</td>\n",
       "      <td>1462798800</td>\n",
       "      <td>2016-05-09 13:00:00</td>\n",
       "      <td>ETHUSD</td>\n",
       "      <td>0.00</td>\n",
       "      <td>12.00</td>\n",
       "      <td>0.00</td>\n",
       "      <td>9.55</td>\n",
       "      <td>432.562115</td>\n",
       "    </tr>\n",
       "    <tr>\n",
       "      <th>1</th>\n",
       "      <td>34495</td>\n",
       "      <td>1462802400</td>\n",
       "      <td>2016-05-09 14:00:00</td>\n",
       "      <td>ETHUSD</td>\n",
       "      <td>9.55</td>\n",
       "      <td>10.00</td>\n",
       "      <td>9.55</td>\n",
       "      <td>10.00</td>\n",
       "      <td>235.774075</td>\n",
       "    </tr>\n",
       "    <tr>\n",
       "      <th>2</th>\n",
       "      <td>34494</td>\n",
       "      <td>1462806000</td>\n",
       "      <td>2016-05-09 15:00:00</td>\n",
       "      <td>ETHUSD</td>\n",
       "      <td>10.00</td>\n",
       "      <td>10.00</td>\n",
       "      <td>9.99</td>\n",
       "      <td>9.99</td>\n",
       "      <td>10.973567</td>\n",
       "    </tr>\n",
       "    <tr>\n",
       "      <th>3</th>\n",
       "      <td>34493</td>\n",
       "      <td>1462809600</td>\n",
       "      <td>2016-05-09 16:00:00</td>\n",
       "      <td>ETHUSD</td>\n",
       "      <td>9.99</td>\n",
       "      <td>9.99</td>\n",
       "      <td>9.79</td>\n",
       "      <td>9.83</td>\n",
       "      <td>62.379450</td>\n",
       "    </tr>\n",
       "    <tr>\n",
       "      <th>4</th>\n",
       "      <td>34492</td>\n",
       "      <td>1462813200</td>\n",
       "      <td>2016-05-09 17:00:00</td>\n",
       "      <td>ETHUSD</td>\n",
       "      <td>9.83</td>\n",
       "      <td>9.83</td>\n",
       "      <td>9.48</td>\n",
       "      <td>9.49</td>\n",
       "      <td>329.553213</td>\n",
       "    </tr>\n",
       "    <tr>\n",
       "      <th>...</th>\n",
       "      <td>...</td>\n",
       "      <td>...</td>\n",
       "      <td>...</td>\n",
       "      <td>...</td>\n",
       "      <td>...</td>\n",
       "      <td>...</td>\n",
       "      <td>...</td>\n",
       "      <td>...</td>\n",
       "      <td>...</td>\n",
       "    </tr>\n",
       "    <tr>\n",
       "      <th>34492</th>\n",
       "      <td>4</td>\n",
       "      <td>1586980800000</td>\n",
       "      <td>2020-04-15 20:00:00</td>\n",
       "      <td>ETHUSD</td>\n",
       "      <td>157.10</td>\n",
       "      <td>158.10</td>\n",
       "      <td>156.87</td>\n",
       "      <td>158.04</td>\n",
       "      <td>144.262622</td>\n",
       "    </tr>\n",
       "    <tr>\n",
       "      <th>34493</th>\n",
       "      <td>3</td>\n",
       "      <td>1586984400000</td>\n",
       "      <td>2020-04-15 21:00:00</td>\n",
       "      <td>ETHUSD</td>\n",
       "      <td>158.04</td>\n",
       "      <td>158.31</td>\n",
       "      <td>157.16</td>\n",
       "      <td>157.18</td>\n",
       "      <td>55.244131</td>\n",
       "    </tr>\n",
       "    <tr>\n",
       "      <th>34494</th>\n",
       "      <td>2</td>\n",
       "      <td>1586988000000</td>\n",
       "      <td>2020-04-15 22:00:00</td>\n",
       "      <td>ETHUSD</td>\n",
       "      <td>157.18</td>\n",
       "      <td>157.30</td>\n",
       "      <td>155.32</td>\n",
       "      <td>155.81</td>\n",
       "      <td>106.337279</td>\n",
       "    </tr>\n",
       "    <tr>\n",
       "      <th>34495</th>\n",
       "      <td>1</td>\n",
       "      <td>1586991600000</td>\n",
       "      <td>2020-04-15 23:00:00</td>\n",
       "      <td>ETHUSD</td>\n",
       "      <td>155.81</td>\n",
       "      <td>155.81</td>\n",
       "      <td>151.39</td>\n",
       "      <td>152.94</td>\n",
       "      <td>4277.567299</td>\n",
       "    </tr>\n",
       "    <tr>\n",
       "      <th>34496</th>\n",
       "      <td>0</td>\n",
       "      <td>1586995200000</td>\n",
       "      <td>2020-04-16 00:00:00</td>\n",
       "      <td>ETHUSD</td>\n",
       "      <td>152.94</td>\n",
       "      <td>152.94</td>\n",
       "      <td>150.39</td>\n",
       "      <td>150.39</td>\n",
       "      <td>650.188125</td>\n",
       "    </tr>\n",
       "  </tbody>\n",
       "</table>\n",
       "<p>34497 rows × 9 columns</p>\n",
       "</div>"
      ],
      "text/plain": [
       "       index  Unix Timestamp                 Date  Symbol    Open    High  \\\n",
       "0      34496      1462798800  2016-05-09 13:00:00  ETHUSD    0.00   12.00   \n",
       "1      34495      1462802400  2016-05-09 14:00:00  ETHUSD    9.55   10.00   \n",
       "2      34494      1462806000  2016-05-09 15:00:00  ETHUSD   10.00   10.00   \n",
       "3      34493      1462809600  2016-05-09 16:00:00  ETHUSD    9.99    9.99   \n",
       "4      34492      1462813200  2016-05-09 17:00:00  ETHUSD    9.83    9.83   \n",
       "...      ...             ...                  ...     ...     ...     ...   \n",
       "34492      4   1586980800000  2020-04-15 20:00:00  ETHUSD  157.10  158.10   \n",
       "34493      3   1586984400000  2020-04-15 21:00:00  ETHUSD  158.04  158.31   \n",
       "34494      2   1586988000000  2020-04-15 22:00:00  ETHUSD  157.18  157.30   \n",
       "34495      1   1586991600000  2020-04-15 23:00:00  ETHUSD  155.81  155.81   \n",
       "34496      0   1586995200000  2020-04-16 00:00:00  ETHUSD  152.94  152.94   \n",
       "\n",
       "          Low   Close       Volume  \n",
       "0        0.00    9.55   432.562115  \n",
       "1        9.55   10.00   235.774075  \n",
       "2        9.99    9.99    10.973567  \n",
       "3        9.79    9.83    62.379450  \n",
       "4        9.48    9.49   329.553213  \n",
       "...       ...     ...          ...  \n",
       "34492  156.87  158.04   144.262622  \n",
       "34493  157.16  157.18    55.244131  \n",
       "34494  155.32  155.81   106.337279  \n",
       "34495  151.39  152.94  4277.567299  \n",
       "34496  150.39  150.39   650.188125  \n",
       "\n",
       "[34497 rows x 9 columns]"
      ]
     },
     "metadata": {},
     "output_type": "display_data"
    }
   ],
   "source": [
    "display(df)"
   ]
  },
  {
   "cell_type": "code",
   "execution_count": 7,
   "metadata": {},
   "outputs": [],
   "source": [
    "df = df[['Unix Timestamp', 'Date', 'Symbol', 'Open', 'High', 'Low', 'Close', 'Volume']]"
   ]
  },
  {
   "cell_type": "code",
   "execution_count": 8,
   "metadata": {},
   "outputs": [],
   "source": [
    "df = df.set_index('Date')"
   ]
  },
  {
   "cell_type": "code",
   "execution_count": 9,
   "metadata": {
    "scrolled": false
   },
   "outputs": [
    {
     "data": {
      "text/html": [
       "<div>\n",
       "<style scoped>\n",
       "    .dataframe tbody tr th:only-of-type {\n",
       "        vertical-align: middle;\n",
       "    }\n",
       "\n",
       "    .dataframe tbody tr th {\n",
       "        vertical-align: top;\n",
       "    }\n",
       "\n",
       "    .dataframe thead th {\n",
       "        text-align: right;\n",
       "    }\n",
       "</style>\n",
       "<table border=\"1\" class=\"dataframe\">\n",
       "  <thead>\n",
       "    <tr style=\"text-align: right;\">\n",
       "      <th></th>\n",
       "      <th>Unix Timestamp</th>\n",
       "      <th>Symbol</th>\n",
       "      <th>Open</th>\n",
       "      <th>High</th>\n",
       "      <th>Low</th>\n",
       "      <th>Close</th>\n",
       "      <th>Volume</th>\n",
       "    </tr>\n",
       "    <tr>\n",
       "      <th>Date</th>\n",
       "      <th></th>\n",
       "      <th></th>\n",
       "      <th></th>\n",
       "      <th></th>\n",
       "      <th></th>\n",
       "      <th></th>\n",
       "      <th></th>\n",
       "    </tr>\n",
       "  </thead>\n",
       "  <tbody>\n",
       "    <tr>\n",
       "      <th>2016-05-09 13:00:00</th>\n",
       "      <td>1462798800</td>\n",
       "      <td>ETHUSD</td>\n",
       "      <td>0.00</td>\n",
       "      <td>12.00</td>\n",
       "      <td>0.00</td>\n",
       "      <td>9.55</td>\n",
       "      <td>432.562115</td>\n",
       "    </tr>\n",
       "    <tr>\n",
       "      <th>2016-05-09 14:00:00</th>\n",
       "      <td>1462802400</td>\n",
       "      <td>ETHUSD</td>\n",
       "      <td>9.55</td>\n",
       "      <td>10.00</td>\n",
       "      <td>9.55</td>\n",
       "      <td>10.00</td>\n",
       "      <td>235.774075</td>\n",
       "    </tr>\n",
       "    <tr>\n",
       "      <th>2016-05-09 15:00:00</th>\n",
       "      <td>1462806000</td>\n",
       "      <td>ETHUSD</td>\n",
       "      <td>10.00</td>\n",
       "      <td>10.00</td>\n",
       "      <td>9.99</td>\n",
       "      <td>9.99</td>\n",
       "      <td>10.973567</td>\n",
       "    </tr>\n",
       "    <tr>\n",
       "      <th>2016-05-09 16:00:00</th>\n",
       "      <td>1462809600</td>\n",
       "      <td>ETHUSD</td>\n",
       "      <td>9.99</td>\n",
       "      <td>9.99</td>\n",
       "      <td>9.79</td>\n",
       "      <td>9.83</td>\n",
       "      <td>62.379450</td>\n",
       "    </tr>\n",
       "    <tr>\n",
       "      <th>2016-05-09 17:00:00</th>\n",
       "      <td>1462813200</td>\n",
       "      <td>ETHUSD</td>\n",
       "      <td>9.83</td>\n",
       "      <td>9.83</td>\n",
       "      <td>9.48</td>\n",
       "      <td>9.49</td>\n",
       "      <td>329.553213</td>\n",
       "    </tr>\n",
       "    <tr>\n",
       "      <th>2016-05-09 18:00:00</th>\n",
       "      <td>1462816800</td>\n",
       "      <td>ETHUSD</td>\n",
       "      <td>9.49</td>\n",
       "      <td>9.49</td>\n",
       "      <td>9.36</td>\n",
       "      <td>9.36</td>\n",
       "      <td>52.954200</td>\n",
       "    </tr>\n",
       "    <tr>\n",
       "      <th>2016-05-09 19:00:00</th>\n",
       "      <td>1462820400</td>\n",
       "      <td>ETHUSD</td>\n",
       "      <td>9.36</td>\n",
       "      <td>9.99</td>\n",
       "      <td>9.36</td>\n",
       "      <td>9.99</td>\n",
       "      <td>49.500000</td>\n",
       "    </tr>\n",
       "    <tr>\n",
       "      <th>2016-05-09 20:00:00</th>\n",
       "      <td>1462824000</td>\n",
       "      <td>ETHUSD</td>\n",
       "      <td>9.99</td>\n",
       "      <td>9.99</td>\n",
       "      <td>9.97</td>\n",
       "      <td>9.97</td>\n",
       "      <td>10.000000</td>\n",
       "    </tr>\n",
       "    <tr>\n",
       "      <th>2016-05-09 21:00:00</th>\n",
       "      <td>1462827600</td>\n",
       "      <td>ETHUSD</td>\n",
       "      <td>9.97</td>\n",
       "      <td>9.97</td>\n",
       "      <td>9.94</td>\n",
       "      <td>9.94</td>\n",
       "      <td>109.177062</td>\n",
       "    </tr>\n",
       "    <tr>\n",
       "      <th>2016-05-09 22:00:00</th>\n",
       "      <td>1462831200</td>\n",
       "      <td>ETHUSD</td>\n",
       "      <td>9.94</td>\n",
       "      <td>9.94</td>\n",
       "      <td>9.36</td>\n",
       "      <td>9.36</td>\n",
       "      <td>25.000000</td>\n",
       "    </tr>\n",
       "    <tr>\n",
       "      <th>2016-05-09 23:00:00</th>\n",
       "      <td>1462834800</td>\n",
       "      <td>ETHUSD</td>\n",
       "      <td>9.36</td>\n",
       "      <td>9.98</td>\n",
       "      <td>9.36</td>\n",
       "      <td>9.36</td>\n",
       "      <td>25.029058</td>\n",
       "    </tr>\n",
       "    <tr>\n",
       "      <th>2016-05-10 00:00:00</th>\n",
       "      <td>1462838400</td>\n",
       "      <td>ETHUSD</td>\n",
       "      <td>9.36</td>\n",
       "      <td>9.36</td>\n",
       "      <td>9.36</td>\n",
       "      <td>9.36</td>\n",
       "      <td>0.000000</td>\n",
       "    </tr>\n",
       "  </tbody>\n",
       "</table>\n",
       "</div>"
      ],
      "text/plain": [
       "                     Unix Timestamp  Symbol   Open   High   Low  Close  \\\n",
       "Date                                                                     \n",
       "2016-05-09 13:00:00      1462798800  ETHUSD   0.00  12.00  0.00   9.55   \n",
       "2016-05-09 14:00:00      1462802400  ETHUSD   9.55  10.00  9.55  10.00   \n",
       "2016-05-09 15:00:00      1462806000  ETHUSD  10.00  10.00  9.99   9.99   \n",
       "2016-05-09 16:00:00      1462809600  ETHUSD   9.99   9.99  9.79   9.83   \n",
       "2016-05-09 17:00:00      1462813200  ETHUSD   9.83   9.83  9.48   9.49   \n",
       "2016-05-09 18:00:00      1462816800  ETHUSD   9.49   9.49  9.36   9.36   \n",
       "2016-05-09 19:00:00      1462820400  ETHUSD   9.36   9.99  9.36   9.99   \n",
       "2016-05-09 20:00:00      1462824000  ETHUSD   9.99   9.99  9.97   9.97   \n",
       "2016-05-09 21:00:00      1462827600  ETHUSD   9.97   9.97  9.94   9.94   \n",
       "2016-05-09 22:00:00      1462831200  ETHUSD   9.94   9.94  9.36   9.36   \n",
       "2016-05-09 23:00:00      1462834800  ETHUSD   9.36   9.98  9.36   9.36   \n",
       "2016-05-10 00:00:00      1462838400  ETHUSD   9.36   9.36  9.36   9.36   \n",
       "\n",
       "                         Volume  \n",
       "Date                             \n",
       "2016-05-09 13:00:00  432.562115  \n",
       "2016-05-09 14:00:00  235.774075  \n",
       "2016-05-09 15:00:00   10.973567  \n",
       "2016-05-09 16:00:00   62.379450  \n",
       "2016-05-09 17:00:00  329.553213  \n",
       "2016-05-09 18:00:00   52.954200  \n",
       "2016-05-09 19:00:00   49.500000  \n",
       "2016-05-09 20:00:00   10.000000  \n",
       "2016-05-09 21:00:00  109.177062  \n",
       "2016-05-09 22:00:00   25.000000  \n",
       "2016-05-09 23:00:00   25.029058  \n",
       "2016-05-10 00:00:00    0.000000  "
      ]
     },
     "execution_count": 9,
     "metadata": {},
     "output_type": "execute_result"
    }
   ],
   "source": [
    "df.head(12)"
   ]
  },
  {
   "cell_type": "code",
   "execution_count": 10,
   "metadata": {},
   "outputs": [],
   "source": [
    "df = df.iloc[11:]"
   ]
  },
  {
   "cell_type": "code",
   "execution_count": 11,
   "metadata": {},
   "outputs": [
    {
     "data": {
      "text/html": [
       "<div>\n",
       "<style scoped>\n",
       "    .dataframe tbody tr th:only-of-type {\n",
       "        vertical-align: middle;\n",
       "    }\n",
       "\n",
       "    .dataframe tbody tr th {\n",
       "        vertical-align: top;\n",
       "    }\n",
       "\n",
       "    .dataframe thead th {\n",
       "        text-align: right;\n",
       "    }\n",
       "</style>\n",
       "<table border=\"1\" class=\"dataframe\">\n",
       "  <thead>\n",
       "    <tr style=\"text-align: right;\">\n",
       "      <th></th>\n",
       "      <th>Unix Timestamp</th>\n",
       "      <th>Symbol</th>\n",
       "      <th>Open</th>\n",
       "      <th>High</th>\n",
       "      <th>Low</th>\n",
       "      <th>Close</th>\n",
       "      <th>Volume</th>\n",
       "    </tr>\n",
       "    <tr>\n",
       "      <th>Date</th>\n",
       "      <th></th>\n",
       "      <th></th>\n",
       "      <th></th>\n",
       "      <th></th>\n",
       "      <th></th>\n",
       "      <th></th>\n",
       "      <th></th>\n",
       "    </tr>\n",
       "  </thead>\n",
       "  <tbody>\n",
       "    <tr>\n",
       "      <th>2016-05-10 00:00:00</th>\n",
       "      <td>1462838400</td>\n",
       "      <td>ETHUSD</td>\n",
       "      <td>9.36</td>\n",
       "      <td>9.36</td>\n",
       "      <td>9.36</td>\n",
       "      <td>9.36</td>\n",
       "      <td>0.000000</td>\n",
       "    </tr>\n",
       "    <tr>\n",
       "      <th>2016-05-10 01:00:00</th>\n",
       "      <td>1462842000</td>\n",
       "      <td>ETHUSD</td>\n",
       "      <td>9.36</td>\n",
       "      <td>9.36</td>\n",
       "      <td>9.36</td>\n",
       "      <td>9.36</td>\n",
       "      <td>0.531700</td>\n",
       "    </tr>\n",
       "    <tr>\n",
       "      <th>2016-05-10 02:00:00</th>\n",
       "      <td>1462845600</td>\n",
       "      <td>ETHUSD</td>\n",
       "      <td>9.36</td>\n",
       "      <td>9.96</td>\n",
       "      <td>9.36</td>\n",
       "      <td>9.36</td>\n",
       "      <td>33.180327</td>\n",
       "    </tr>\n",
       "  </tbody>\n",
       "</table>\n",
       "</div>"
      ],
      "text/plain": [
       "                     Unix Timestamp  Symbol  Open  High   Low  Close  \\\n",
       "Date                                                                   \n",
       "2016-05-10 00:00:00      1462838400  ETHUSD  9.36  9.36  9.36   9.36   \n",
       "2016-05-10 01:00:00      1462842000  ETHUSD  9.36  9.36  9.36   9.36   \n",
       "2016-05-10 02:00:00      1462845600  ETHUSD  9.36  9.96  9.36   9.36   \n",
       "\n",
       "                        Volume  \n",
       "Date                            \n",
       "2016-05-10 00:00:00   0.000000  \n",
       "2016-05-10 01:00:00   0.531700  \n",
       "2016-05-10 02:00:00  33.180327  "
      ]
     },
     "execution_count": 11,
     "metadata": {},
     "output_type": "execute_result"
    }
   ],
   "source": [
    "df.head(3)"
   ]
  },
  {
   "cell_type": "markdown",
   "metadata": {},
   "source": [
    "#### Let's create a column called Close1 that is to see the closing day of torromow compering with the day of today."
   ]
  },
  {
   "cell_type": "code",
   "execution_count": 12,
   "metadata": {},
   "outputs": [
    {
     "data": {
      "text/html": [
       "<div>\n",
       "<style scoped>\n",
       "    .dataframe tbody tr th:only-of-type {\n",
       "        vertical-align: middle;\n",
       "    }\n",
       "\n",
       "    .dataframe tbody tr th {\n",
       "        vertical-align: top;\n",
       "    }\n",
       "\n",
       "    .dataframe thead th {\n",
       "        text-align: right;\n",
       "    }\n",
       "</style>\n",
       "<table border=\"1\" class=\"dataframe\">\n",
       "  <thead>\n",
       "    <tr style=\"text-align: right;\">\n",
       "      <th></th>\n",
       "      <th>Close</th>\n",
       "      <th>Close1</th>\n",
       "    </tr>\n",
       "    <tr>\n",
       "      <th>Date</th>\n",
       "      <th></th>\n",
       "      <th></th>\n",
       "    </tr>\n",
       "  </thead>\n",
       "  <tbody>\n",
       "    <tr>\n",
       "      <th>2016-05-10 00:00:00</th>\n",
       "      <td>9.36</td>\n",
       "      <td>9.36</td>\n",
       "    </tr>\n",
       "    <tr>\n",
       "      <th>2016-05-10 01:00:00</th>\n",
       "      <td>9.36</td>\n",
       "      <td>9.36</td>\n",
       "    </tr>\n",
       "    <tr>\n",
       "      <th>2016-05-10 02:00:00</th>\n",
       "      <td>9.36</td>\n",
       "      <td>9.36</td>\n",
       "    </tr>\n",
       "    <tr>\n",
       "      <th>2016-05-10 03:00:00</th>\n",
       "      <td>9.36</td>\n",
       "      <td>9.36</td>\n",
       "    </tr>\n",
       "  </tbody>\n",
       "</table>\n",
       "</div>"
      ],
      "text/plain": [
       "                     Close  Close1\n",
       "Date                              \n",
       "2016-05-10 00:00:00   9.36    9.36\n",
       "2016-05-10 01:00:00   9.36    9.36\n",
       "2016-05-10 02:00:00   9.36    9.36\n",
       "2016-05-10 03:00:00   9.36    9.36"
      ]
     },
     "execution_count": 12,
     "metadata": {},
     "output_type": "execute_result"
    }
   ],
   "source": [
    "df['Close1'] = df['Close'].shift(-1)\n",
    "df[['Close', 'Close1']].head(4)"
   ]
  },
  {
   "cell_type": "code",
   "execution_count": 13,
   "metadata": {},
   "outputs": [
    {
     "data": {
      "text/html": [
       "<div>\n",
       "<style scoped>\n",
       "    .dataframe tbody tr th:only-of-type {\n",
       "        vertical-align: middle;\n",
       "    }\n",
       "\n",
       "    .dataframe tbody tr th {\n",
       "        vertical-align: top;\n",
       "    }\n",
       "\n",
       "    .dataframe thead th {\n",
       "        text-align: right;\n",
       "    }\n",
       "</style>\n",
       "<table border=\"1\" class=\"dataframe\">\n",
       "  <thead>\n",
       "    <tr style=\"text-align: right;\">\n",
       "      <th></th>\n",
       "      <th>Unix Timestamp</th>\n",
       "      <th>Symbol</th>\n",
       "      <th>Open</th>\n",
       "      <th>High</th>\n",
       "      <th>Low</th>\n",
       "      <th>Close</th>\n",
       "      <th>Volume</th>\n",
       "      <th>Close1</th>\n",
       "    </tr>\n",
       "    <tr>\n",
       "      <th>Date</th>\n",
       "      <th></th>\n",
       "      <th></th>\n",
       "      <th></th>\n",
       "      <th></th>\n",
       "      <th></th>\n",
       "      <th></th>\n",
       "      <th></th>\n",
       "      <th></th>\n",
       "    </tr>\n",
       "  </thead>\n",
       "  <tbody>\n",
       "    <tr>\n",
       "      <th>2016-05-10 00:00:00</th>\n",
       "      <td>1462838400</td>\n",
       "      <td>ETHUSD</td>\n",
       "      <td>9.36</td>\n",
       "      <td>9.36</td>\n",
       "      <td>9.36</td>\n",
       "      <td>9.36</td>\n",
       "      <td>0.000000</td>\n",
       "      <td>9.36</td>\n",
       "    </tr>\n",
       "    <tr>\n",
       "      <th>2016-05-10 01:00:00</th>\n",
       "      <td>1462842000</td>\n",
       "      <td>ETHUSD</td>\n",
       "      <td>9.36</td>\n",
       "      <td>9.36</td>\n",
       "      <td>9.36</td>\n",
       "      <td>9.36</td>\n",
       "      <td>0.531700</td>\n",
       "      <td>9.36</td>\n",
       "    </tr>\n",
       "    <tr>\n",
       "      <th>2016-05-10 02:00:00</th>\n",
       "      <td>1462845600</td>\n",
       "      <td>ETHUSD</td>\n",
       "      <td>9.36</td>\n",
       "      <td>9.96</td>\n",
       "      <td>9.36</td>\n",
       "      <td>9.36</td>\n",
       "      <td>33.180327</td>\n",
       "      <td>9.36</td>\n",
       "    </tr>\n",
       "    <tr>\n",
       "      <th>2016-05-10 03:00:00</th>\n",
       "      <td>1462849200</td>\n",
       "      <td>ETHUSD</td>\n",
       "      <td>9.36</td>\n",
       "      <td>9.36</td>\n",
       "      <td>9.36</td>\n",
       "      <td>9.36</td>\n",
       "      <td>0.000000</td>\n",
       "      <td>9.36</td>\n",
       "    </tr>\n",
       "    <tr>\n",
       "      <th>2016-05-10 04:00:00</th>\n",
       "      <td>1462852800</td>\n",
       "      <td>ETHUSD</td>\n",
       "      <td>9.36</td>\n",
       "      <td>9.36</td>\n",
       "      <td>9.36</td>\n",
       "      <td>9.36</td>\n",
       "      <td>0.000000</td>\n",
       "      <td>9.36</td>\n",
       "    </tr>\n",
       "  </tbody>\n",
       "</table>\n",
       "</div>"
      ],
      "text/plain": [
       "                     Unix Timestamp  Symbol  Open  High   Low  Close  \\\n",
       "Date                                                                   \n",
       "2016-05-10 00:00:00      1462838400  ETHUSD  9.36  9.36  9.36   9.36   \n",
       "2016-05-10 01:00:00      1462842000  ETHUSD  9.36  9.36  9.36   9.36   \n",
       "2016-05-10 02:00:00      1462845600  ETHUSD  9.36  9.96  9.36   9.36   \n",
       "2016-05-10 03:00:00      1462849200  ETHUSD  9.36  9.36  9.36   9.36   \n",
       "2016-05-10 04:00:00      1462852800  ETHUSD  9.36  9.36  9.36   9.36   \n",
       "\n",
       "                        Volume  Close1  \n",
       "Date                                    \n",
       "2016-05-10 00:00:00   0.000000    9.36  \n",
       "2016-05-10 01:00:00   0.531700    9.36  \n",
       "2016-05-10 02:00:00  33.180327    9.36  \n",
       "2016-05-10 03:00:00   0.000000    9.36  \n",
       "2016-05-10 04:00:00   0.000000    9.36  "
      ]
     },
     "execution_count": 13,
     "metadata": {},
     "output_type": "execute_result"
    }
   ],
   "source": [
    "df.head()"
   ]
  },
  {
   "cell_type": "markdown",
   "metadata": {},
   "source": [
    "#### Now, we are going to see a graph of the column Close subtracting the column Close1 with a logarithm method."
   ]
  },
  {
   "cell_type": "code",
   "execution_count": 14,
   "metadata": {},
   "outputs": [
    {
     "data": {
      "image/png": "[encoded data removed]",
      "text/plain": [
       "<Figure size 936x360 with 1 Axes>"
      ]
     },
     "metadata": {},
     "output_type": "display_data"
    }
   ],
   "source": [
    "with plt.style.context('dark_background'):\n",
    "    df['LogReturn'] = np.log(df['Close1']) - np.log(df['Close'])\n",
    "    plt.figure(figsize=(13,5))\n",
    "    df['LogReturn'].plot(legend=True)\n",
    "    plt.axhline(0, color='Red')\n",
    "    plt.show()"
   ]
  },
  {
   "cell_type": "markdown",
   "metadata": {},
   "source": [
    "#### With the graph above, we can see that the ethereum had many gains but had falls a lot too.."
   ]
  },
  {
   "cell_type": "code",
   "execution_count": 15,
   "metadata": {},
   "outputs": [
    {
     "data": {
      "text/html": [
       "<div>\n",
       "<style scoped>\n",
       "    .dataframe tbody tr th:only-of-type {\n",
       "        vertical-align: middle;\n",
       "    }\n",
       "\n",
       "    .dataframe tbody tr th {\n",
       "        vertical-align: top;\n",
       "    }\n",
       "\n",
       "    .dataframe thead th {\n",
       "        text-align: right;\n",
       "    }\n",
       "</style>\n",
       "<table border=\"1\" class=\"dataframe\">\n",
       "  <thead>\n",
       "    <tr style=\"text-align: right;\">\n",
       "      <th></th>\n",
       "      <th>Unix Timestamp</th>\n",
       "      <th>Symbol</th>\n",
       "      <th>Open</th>\n",
       "      <th>High</th>\n",
       "      <th>Low</th>\n",
       "      <th>Close</th>\n",
       "      <th>Volume</th>\n",
       "      <th>Close1</th>\n",
       "      <th>LogReturn</th>\n",
       "    </tr>\n",
       "    <tr>\n",
       "      <th>Date</th>\n",
       "      <th></th>\n",
       "      <th></th>\n",
       "      <th></th>\n",
       "      <th></th>\n",
       "      <th></th>\n",
       "      <th></th>\n",
       "      <th></th>\n",
       "      <th></th>\n",
       "      <th></th>\n",
       "    </tr>\n",
       "  </thead>\n",
       "  <tbody>\n",
       "    <tr>\n",
       "      <th>2020-04-15 20:00:00</th>\n",
       "      <td>1586980800000</td>\n",
       "      <td>ETHUSD</td>\n",
       "      <td>157.10</td>\n",
       "      <td>158.10</td>\n",
       "      <td>156.87</td>\n",
       "      <td>158.04</td>\n",
       "      <td>144.262622</td>\n",
       "      <td>157.18</td>\n",
       "      <td>-0.005457</td>\n",
       "    </tr>\n",
       "    <tr>\n",
       "      <th>2020-04-15 21:00:00</th>\n",
       "      <td>1586984400000</td>\n",
       "      <td>ETHUSD</td>\n",
       "      <td>158.04</td>\n",
       "      <td>158.31</td>\n",
       "      <td>157.16</td>\n",
       "      <td>157.18</td>\n",
       "      <td>55.244131</td>\n",
       "      <td>155.81</td>\n",
       "      <td>-0.008754</td>\n",
       "    </tr>\n",
       "    <tr>\n",
       "      <th>2020-04-15 22:00:00</th>\n",
       "      <td>1586988000000</td>\n",
       "      <td>ETHUSD</td>\n",
       "      <td>157.18</td>\n",
       "      <td>157.30</td>\n",
       "      <td>155.32</td>\n",
       "      <td>155.81</td>\n",
       "      <td>106.337279</td>\n",
       "      <td>152.94</td>\n",
       "      <td>-0.018592</td>\n",
       "    </tr>\n",
       "    <tr>\n",
       "      <th>2020-04-15 23:00:00</th>\n",
       "      <td>1586991600000</td>\n",
       "      <td>ETHUSD</td>\n",
       "      <td>155.81</td>\n",
       "      <td>155.81</td>\n",
       "      <td>151.39</td>\n",
       "      <td>152.94</td>\n",
       "      <td>4277.567299</td>\n",
       "      <td>150.39</td>\n",
       "      <td>-0.016814</td>\n",
       "    </tr>\n",
       "    <tr>\n",
       "      <th>2020-04-16 00:00:00</th>\n",
       "      <td>1586995200000</td>\n",
       "      <td>ETHUSD</td>\n",
       "      <td>152.94</td>\n",
       "      <td>152.94</td>\n",
       "      <td>150.39</td>\n",
       "      <td>150.39</td>\n",
       "      <td>650.188125</td>\n",
       "      <td>NaN</td>\n",
       "      <td>NaN</td>\n",
       "    </tr>\n",
       "  </tbody>\n",
       "</table>\n",
       "</div>"
      ],
      "text/plain": [
       "                     Unix Timestamp  Symbol    Open    High     Low   Close  \\\n",
       "Date                                                                          \n",
       "2020-04-15 20:00:00   1586980800000  ETHUSD  157.10  158.10  156.87  158.04   \n",
       "2020-04-15 21:00:00   1586984400000  ETHUSD  158.04  158.31  157.16  157.18   \n",
       "2020-04-15 22:00:00   1586988000000  ETHUSD  157.18  157.30  155.32  155.81   \n",
       "2020-04-15 23:00:00   1586991600000  ETHUSD  155.81  155.81  151.39  152.94   \n",
       "2020-04-16 00:00:00   1586995200000  ETHUSD  152.94  152.94  150.39  150.39   \n",
       "\n",
       "                          Volume  Close1  LogReturn  \n",
       "Date                                                 \n",
       "2020-04-15 20:00:00   144.262622  157.18  -0.005457  \n",
       "2020-04-15 21:00:00    55.244131  155.81  -0.008754  \n",
       "2020-04-15 22:00:00   106.337279  152.94  -0.018592  \n",
       "2020-04-15 23:00:00  4277.567299  150.39  -0.016814  \n",
       "2020-04-16 00:00:00   650.188125     NaN        NaN  "
      ]
     },
     "execution_count": 15,
     "metadata": {},
     "output_type": "execute_result"
    }
   ],
   "source": [
    "df.tail()"
   ]
  },
  {
   "cell_type": "code",
   "execution_count": 16,
   "metadata": {},
   "outputs": [],
   "source": [
    "df = df.dropna()"
   ]
  },
  {
   "cell_type": "markdown",
   "metadata": {
    "scrolled": true
   },
   "source": [
    "#### Now, let's make two news variables, the first variable will have 10 of mean method using rolling method, and the second variable will have 50 of mean method using rolling method.\n",
    "+ The first variable is rolling median in a window of 10 length of the column Close.\n",
    "+ The second variable is rolling median in a window of 50 length of the columns Close."
   ]
  },
  {
   "cell_type": "code",
   "execution_count": 17,
   "metadata": {},
   "outputs": [],
   "source": [
    "df['MA10'] = df['Close'].rolling(10).mean()\n",
    "df['MA50'] = df['Close'].rolling(50).mean()"
   ]
  },
  {
   "cell_type": "code",
   "execution_count": 18,
   "metadata": {},
   "outputs": [
    {
     "data": {
      "image/png": "[encoded data removed]",
      "text/plain": [
       "<Figure size 1224x648 with 1 Axes>"
      ]
     },
     "metadata": {},
     "output_type": "display_data"
    }
   ],
   "source": [
    "plt.figure(figsize=(17,9))\n",
    "df['Close'].plot(legend=True)\n",
    "df['MA10'].plot(legend=True)\n",
    "df['MA50'].plot(legend=True)\n",
    "plt.show()"
   ]
  },
  {
   "cell_type": "markdown",
   "metadata": {},
   "source": [
    "#### As we can see in the graph above, the value of the crypto coin ethereum had many falls."
   ]
  },
  {
   "cell_type": "markdown",
   "metadata": {},
   "source": [
    "#### Let's make a standardization in the column LogReturn."
   ]
  },
  {
   "cell_type": "code",
   "execution_count": 19,
   "metadata": {},
   "outputs": [
    {
     "name": "stdout",
     "output_type": "stream",
     "text": [
      "1.1165872921403392\n"
     ]
    }
   ],
   "source": [
    "x = df['LogReturn'].mean()\n",
    "s = df['LogReturn'].std(ddof=1)\n",
    "n = df['LogReturn'].shape[0]\n",
    "zhat = (x-0)/(s/(n**0.5))\n",
    "print(zhat)"
   ]
  },
  {
   "cell_type": "markdown",
   "metadata": {},
   "source": [
    "#### Now let's make test hypothesis to test the significance of 5% in the zhat of our column LogReturn."
   ]
  },
  {
   "cell_type": "code",
   "execution_count": 20,
   "metadata": {},
   "outputs": [
    {
     "name": "stdout",
     "output_type": "stream",
     "text": [
      "-1.9599639845400545 1.9599639845400545\n",
      "At the significance level of 0.05\n",
      "Shall we reject:False\n"
     ]
    }
   ],
   "source": [
    "alpha = 0.05\n",
    "zleft = norm.ppf(alpha/2,0,1)\n",
    "zright = -zleft\n",
    "print(zleft, zright)\n",
    "print('At the significance level of', alpha)\n",
    "print('Shall we reject:{}'.format(zhat>zright or zhat<zleft))"
   ]
  },
  {
   "cell_type": "code",
   "execution_count": 21,
   "metadata": {},
   "outputs": [
    {
     "name": "stdout",
     "output_type": "stream",
     "text": [
      "-1.9599639845400545 1.6448536269514722\n",
      "At the significance level of 0.05\n",
      "Shall we reject:False\n"
     ]
    }
   ],
   "source": [
    "zright = norm.ppf(1-alpha, 0, 1)\n",
    "print(zleft, zright)\n",
    "print('At the significance level of', alpha)\n",
    "print('Shall we reject:{}'.format(zhat>zright))"
   ]
  },
  {
   "cell_type": "code",
   "execution_count": 22,
   "metadata": {},
   "outputs": [
    {
     "name": "stdout",
     "output_type": "stream",
     "text": [
      "0.13208541380573968\n",
      "At significance level of the 0.05\n",
      "Shall we reject: False\n"
     ]
    }
   ],
   "source": [
    "p = 1-norm.cdf(zhat, 0, 1)\n",
    "print(p)\n",
    "print('At significance level of the', alpha)\n",
    "print('Shall we reject:', p<alpha)"
   ]
  },
  {
   "cell_type": "markdown",
   "metadata": {},
   "source": [
    "#### With the results above, we can see that we shoudn't reject ours hypothesis."
   ]
  },
  {
   "cell_type": "markdown",
   "metadata": {},
   "source": [
    "#### Now let's see how is chance of  our stock drop over 4%  each operation."
   ]
  },
  {
   "cell_type": "code",
   "execution_count": 23,
   "metadata": {},
   "outputs": [
    {
     "name": "stdout",
     "output_type": "stream",
     "text": [
      "8.052157835157376e-05 0.013391280891305722\n",
      "The probability of the Ethereum drop over 30% daily is: 0.0013811075269423876\n"
     ]
    }
   ],
   "source": [
    "mu = df['LogReturn'].mean()\n",
    "sigma = df['LogReturn'].std(ddof=-1)\n",
    "print(mu, sigma)\n",
    "print('The probability of the Ethereum drop over 30% daily is:', norm.cdf(-0.04, mu, sigma))"
   ]
  },
  {
   "cell_type": "markdown",
   "metadata": {},
   "source": [
    "#### In the line above we can see that according to column LogReturn, our investment have 0.13% chance to drop over 4% per operation.\n"
   ]
  },
  {
   "cell_type": "markdown",
   "metadata": {},
   "source": [
    "Now let's calculate 24 hours times 30 days to find out the number of operations into each month that is the median of days in the month."
   ]
  },
  {
   "cell_type": "code",
   "execution_count": 24,
   "metadata": {},
   "outputs": [
    {
     "data": {
      "text/plain": [
       "720"
      ]
     },
     "execution_count": 24,
     "metadata": {},
     "output_type": "execute_result"
    }
   ],
   "source": [
    "24*30"
   ]
  },
  {
   "cell_type": "code",
   "execution_count": 25,
   "metadata": {},
   "outputs": [
    {
     "name": "stdout",
     "output_type": "stream",
     "text": [
      "0.057975536413133105 0.35932577254504283\n",
      "The probability of the Ethereum drop over 70% during 150 operations is of: 0.1012358232432155\n"
     ]
    }
   ],
   "source": [
    "mu720 = 720*mu\n",
    "sigma720 = 720**0.5*sigma\n",
    "print(mu720, sigma720)\n",
    "print('The probability of the Ethereum drop over 70% during 150 operations is of:', norm.cdf(-0.4, mu720, sigma720))"
   ]
  },
  {
   "cell_type": "markdown",
   "metadata": {},
   "source": [
    "#### With the line above we can see that the Ethereum have 10% chance to have a loss more than 40% in a month."
   ]
  },
  {
   "cell_type": "markdown",
   "metadata": {},
   "source": [
    "Now let's see the probability of the Ethereum drop over during 1 year of operations."
   ]
  },
  {
   "cell_type": "code",
   "execution_count": 26,
   "metadata": {},
   "outputs": [
    {
     "data": {
      "text/plain": [
       "8760"
      ]
     },
     "execution_count": 26,
     "metadata": {},
     "output_type": "execute_result"
    }
   ],
   "source": [
    "24*365"
   ]
  },
  {
   "cell_type": "code",
   "execution_count": 27,
   "metadata": {},
   "outputs": [
    {
     "name": "stdout",
     "output_type": "stream",
     "text": [
      "0.705369026359786 1.2533552163095203\n",
      "The probability of the Ethereum drop over 80% of value during one year of operations is of: 0.11486176507608348\n"
     ]
    }
   ],
   "source": [
    "mu8m = 8760*mu\n",
    "sigma8m = 8760**0.5*sigma\n",
    "print(mu8m, sigma8m)\n",
    "print('The probability of the Ethereum drop over 80% of value during one year of operations is of:', norm.cdf(-0.8, mu8m, sigma8m))"
   ]
  },
  {
   "cell_type": "code",
   "execution_count": 28,
   "metadata": {},
   "outputs": [
    {
     "name": "stdout",
     "output_type": "stream",
     "text": [
      "The probability of the Ethereum drop over 50% of value during one year of operations is of: 0.16809669046804454\n"
     ]
    }
   ],
   "source": [
    "print('The probability of the Ethereum drop over 50% of value during one year of operations is of:', norm.cdf(-0.5, mu8m, sigma8m))"
   ]
  },
  {
   "cell_type": "code",
   "execution_count": 29,
   "metadata": {},
   "outputs": [
    {
     "name": "stdout",
     "output_type": "stream",
     "text": [
      "The probability of the Ethereum drop over 15% of value during one year of operations is of: 0.24747299818442686\n"
     ]
    }
   ],
   "source": [
    "print('The probability of the Ethereum drop over 15% of value during one year of operations is of:', norm.cdf(-0.15, mu8m, sigma8m))"
   ]
  },
  {
   "cell_type": "markdown",
   "metadata": {},
   "source": [
    "#### As we can see in the lines above, with 8760 operations that is one year of operations, 24  operations per day. With the first code we can see that the Ethereum have 11% chance to drop over 80% in a year, the second code shows us that Ethereum have 16% chance to have a loss more than 50% in a year, and with the last code with can see that the Ethereum have 24% chance to drop over 15% in a year."
   ]
  },
  {
   "cell_type": "markdown",
   "metadata": {},
   "source": [
    "#### Let's see the loss or the gain according to probability using the method VAR or Value at Risk."
   ]
  },
  {
   "cell_type": "code",
   "execution_count": 30,
   "metadata": {},
   "outputs": [
    {
     "name": "stdout",
     "output_type": "stream",
     "text": [
      "-0.5330627638147205\n"
     ]
    }
   ],
   "source": [
    "print(norm.ppf(0.05, mu720, sigma720))"
   ]
  },
  {
   "cell_type": "code",
   "execution_count": 31,
   "metadata": {},
   "outputs": [
    {
     "name": "stdout",
     "output_type": "stream",
     "text": [
      "-0.18438601414978692\n"
     ]
    }
   ],
   "source": [
    "print(norm.ppf(0.25, mu720, sigma720))"
   ]
  },
  {
   "cell_type": "code",
   "execution_count": 51,
   "metadata": {},
   "outputs": [
    {
     "name": "stdout",
     "output_type": "stream",
     "text": [
      "0.057975536413133105\n"
     ]
    }
   ],
   "source": [
    "print(norm.ppf(0.5, mu720, sigma720))"
   ]
  },
  {
   "cell_type": "markdown",
   "metadata": {},
   "source": [
    "#### With the lines above using Value at Risk we can see that with 5% chance the monthly return is worse than -53%, Ethereum have also 25% chance to have a monthly loss worse than 18% and  50% chance to have a monthly profit higher than 5%."
   ]
  },
  {
   "cell_type": "markdown",
   "metadata": {},
   "source": [
    "..."
   ]
  },
  {
   "cell_type": "markdown",
   "metadata": {},
   "source": [
    "#### Now we'll see how much money we got with this investment."
   ]
  },
  {
   "cell_type": "code",
   "execution_count": 52,
   "metadata": {},
   "outputs": [],
   "source": [
    "d222 = df"
   ]
  },
  {
   "cell_type": "code",
   "execution_count": 53,
   "metadata": {},
   "outputs": [
    {
     "data": {
      "text/html": [
       "<div>\n",
       "<style scoped>\n",
       "    .dataframe tbody tr th:only-of-type {\n",
       "        vertical-align: middle;\n",
       "    }\n",
       "\n",
       "    .dataframe tbody tr th {\n",
       "        vertical-align: top;\n",
       "    }\n",
       "\n",
       "    .dataframe thead th {\n",
       "        text-align: right;\n",
       "    }\n",
       "</style>\n",
       "<table border=\"1\" class=\"dataframe\">\n",
       "  <thead>\n",
       "    <tr style=\"text-align: right;\">\n",
       "      <th></th>\n",
       "      <th>Unix Timestamp</th>\n",
       "      <th>Symbol</th>\n",
       "      <th>Open</th>\n",
       "      <th>High</th>\n",
       "      <th>Low</th>\n",
       "      <th>Close</th>\n",
       "      <th>Volume</th>\n",
       "      <th>Close1</th>\n",
       "      <th>LogReturn</th>\n",
       "      <th>MA10</th>\n",
       "      <th>MA50</th>\n",
       "      <th>Shares</th>\n",
       "      <th>Profit</th>\n",
       "      <th>Wealth</th>\n",
       "    </tr>\n",
       "    <tr>\n",
       "      <th>Date</th>\n",
       "      <th></th>\n",
       "      <th></th>\n",
       "      <th></th>\n",
       "      <th></th>\n",
       "      <th></th>\n",
       "      <th></th>\n",
       "      <th></th>\n",
       "      <th></th>\n",
       "      <th></th>\n",
       "      <th></th>\n",
       "      <th></th>\n",
       "      <th></th>\n",
       "      <th></th>\n",
       "      <th></th>\n",
       "    </tr>\n",
       "  </thead>\n",
       "  <tbody>\n",
       "    <tr>\n",
       "      <th>2016-05-10 00:00:00</th>\n",
       "      <td>1462838400</td>\n",
       "      <td>ETHUSD</td>\n",
       "      <td>9.36</td>\n",
       "      <td>9.36</td>\n",
       "      <td>9.36</td>\n",
       "      <td>9.36</td>\n",
       "      <td>0.000000</td>\n",
       "      <td>9.36</td>\n",
       "      <td>0.0</td>\n",
       "      <td>NaN</td>\n",
       "      <td>NaN</td>\n",
       "      <td>0</td>\n",
       "      <td>0.0</td>\n",
       "      <td>0.0</td>\n",
       "    </tr>\n",
       "    <tr>\n",
       "      <th>2016-05-10 01:00:00</th>\n",
       "      <td>1462842000</td>\n",
       "      <td>ETHUSD</td>\n",
       "      <td>9.36</td>\n",
       "      <td>9.36</td>\n",
       "      <td>9.36</td>\n",
       "      <td>9.36</td>\n",
       "      <td>0.531700</td>\n",
       "      <td>9.36</td>\n",
       "      <td>0.0</td>\n",
       "      <td>NaN</td>\n",
       "      <td>NaN</td>\n",
       "      <td>0</td>\n",
       "      <td>0.0</td>\n",
       "      <td>0.0</td>\n",
       "    </tr>\n",
       "    <tr>\n",
       "      <th>2016-05-10 02:00:00</th>\n",
       "      <td>1462845600</td>\n",
       "      <td>ETHUSD</td>\n",
       "      <td>9.36</td>\n",
       "      <td>9.96</td>\n",
       "      <td>9.36</td>\n",
       "      <td>9.36</td>\n",
       "      <td>33.180327</td>\n",
       "      <td>9.36</td>\n",
       "      <td>0.0</td>\n",
       "      <td>NaN</td>\n",
       "      <td>NaN</td>\n",
       "      <td>0</td>\n",
       "      <td>0.0</td>\n",
       "      <td>0.0</td>\n",
       "    </tr>\n",
       "    <tr>\n",
       "      <th>2016-05-10 03:00:00</th>\n",
       "      <td>1462849200</td>\n",
       "      <td>ETHUSD</td>\n",
       "      <td>9.36</td>\n",
       "      <td>9.36</td>\n",
       "      <td>9.36</td>\n",
       "      <td>9.36</td>\n",
       "      <td>0.000000</td>\n",
       "      <td>9.36</td>\n",
       "      <td>0.0</td>\n",
       "      <td>NaN</td>\n",
       "      <td>NaN</td>\n",
       "      <td>0</td>\n",
       "      <td>0.0</td>\n",
       "      <td>0.0</td>\n",
       "    </tr>\n",
       "    <tr>\n",
       "      <th>2016-05-10 04:00:00</th>\n",
       "      <td>1462852800</td>\n",
       "      <td>ETHUSD</td>\n",
       "      <td>9.36</td>\n",
       "      <td>9.36</td>\n",
       "      <td>9.36</td>\n",
       "      <td>9.36</td>\n",
       "      <td>0.000000</td>\n",
       "      <td>9.36</td>\n",
       "      <td>0.0</td>\n",
       "      <td>NaN</td>\n",
       "      <td>NaN</td>\n",
       "      <td>0</td>\n",
       "      <td>0.0</td>\n",
       "      <td>0.0</td>\n",
       "    </tr>\n",
       "  </tbody>\n",
       "</table>\n",
       "</div>"
      ],
      "text/plain": [
       "                     Unix Timestamp  Symbol  Open  High   Low  Close  \\\n",
       "Date                                                                   \n",
       "2016-05-10 00:00:00      1462838400  ETHUSD  9.36  9.36  9.36   9.36   \n",
       "2016-05-10 01:00:00      1462842000  ETHUSD  9.36  9.36  9.36   9.36   \n",
       "2016-05-10 02:00:00      1462845600  ETHUSD  9.36  9.96  9.36   9.36   \n",
       "2016-05-10 03:00:00      1462849200  ETHUSD  9.36  9.36  9.36   9.36   \n",
       "2016-05-10 04:00:00      1462852800  ETHUSD  9.36  9.36  9.36   9.36   \n",
       "\n",
       "                        Volume  Close1  LogReturn  MA10  MA50  Shares  Profit  \\\n",
       "Date                                                                            \n",
       "2016-05-10 00:00:00   0.000000    9.36        0.0   NaN   NaN       0     0.0   \n",
       "2016-05-10 01:00:00   0.531700    9.36        0.0   NaN   NaN       0     0.0   \n",
       "2016-05-10 02:00:00  33.180327    9.36        0.0   NaN   NaN       0     0.0   \n",
       "2016-05-10 03:00:00   0.000000    9.36        0.0   NaN   NaN       0     0.0   \n",
       "2016-05-10 04:00:00   0.000000    9.36        0.0   NaN   NaN       0     0.0   \n",
       "\n",
       "                     Wealth  \n",
       "Date                         \n",
       "2016-05-10 00:00:00     0.0  \n",
       "2016-05-10 01:00:00     0.0  \n",
       "2016-05-10 02:00:00     0.0  \n",
       "2016-05-10 03:00:00     0.0  \n",
       "2016-05-10 04:00:00     0.0  "
      ]
     },
     "execution_count": 53,
     "metadata": {},
     "output_type": "execute_result"
    }
   ],
   "source": [
    "df.head()"
   ]
  },
  {
   "cell_type": "code",
   "execution_count": 54,
   "metadata": {},
   "outputs": [],
   "source": [
    "df['Shares'] = [1 if df.loc[ei, 'MA10']>df.loc[ei, 'MA50'] else 0 for ei in df.index]"
   ]
  },
  {
   "cell_type": "code",
   "execution_count": 55,
   "metadata": {},
   "outputs": [],
   "source": [
    "df['Profit'] = [df.loc[ei, 'Close1']-df.loc[ei, 'Close'] if df.loc[ei, 'Shares'] else 0 for ei in df.index]"
   ]
  },
  {
   "cell_type": "code",
   "execution_count": 56,
   "metadata": {
    "scrolled": true
   },
   "outputs": [
    {
     "data": {
      "text/plain": [
       "<matplotlib.lines.Line2D at 0xb58a8b30a0>"
      ]
     },
     "execution_count": 56,
     "metadata": {},
     "output_type": "execute_result"
    },
    {
     "data": {
      "image/png": "[encoded data removed]",
      "text/plain": [
       "<Figure size 1080x360 with 1 Axes>"
      ]
     },
     "metadata": {},
     "output_type": "display_data"
    }
   ],
   "source": [
    "df['Profit'].plot(figsize=(15,5))\n",
    "plt.axhline(0, color='Red')"
   ]
  },
  {
   "cell_type": "code",
   "execution_count": 57,
   "metadata": {},
   "outputs": [],
   "source": [
    "df['Wealth'] = df['Profit'].cumsum()"
   ]
  },
  {
   "cell_type": "code",
   "execution_count": 58,
   "metadata": {},
   "outputs": [
    {
     "name": "stdout",
     "output_type": "stream",
     "text": [
      "The total money win is: 1222.9200000000133\n",
      "The total money spent is: 9.36\n"
     ]
    }
   ],
   "source": [
    "print('The total money win is:', df.loc[df.index[-2], 'Wealth'])\n",
    "print('The total money spent is:', df.loc[df.index[0], 'Close'])"
   ]
  },
  {
   "cell_type": "markdown",
   "metadata": {},
   "source": [
    "#### The value of this crypto coin had many falls, of course the value gained can be more or less according to time that you sell or buy."
   ]
  },
  {
   "cell_type": "markdown",
   "metadata": {},
   "source": [
    "## Thanks for analyzing with me.  :)"
   ]
  }
 ],
 "metadata": {
  "kernelspec": {
   "display_name": "Python 3",
   "language": "python",
   "name": "python3"
  },
  "language_info": {
   "codemirror_mode": {
    "name": "ipython",
    "version": 3
   },
   "file_extension": ".py",
   "mimetype": "text/x-python",
   "name": "python",
   "nbconvert_exporter": "python",
   "pygments_lexer": "ipython3",
   "version": "3.8.7"
  }
 },
 "nbformat": 4,
 "nbformat_minor": 4
}
