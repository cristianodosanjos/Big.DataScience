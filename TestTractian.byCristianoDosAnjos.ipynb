{
 "cells": [
  {
   "cell_type": "markdown",
   "id": "ec89bc3f",
   "metadata": {},
   "source": [
    "# ..Made by Cristiano Dos Anjos..\n",
    "cristianodosanjos019@gmail.com"
   ]
  },
  {
   "cell_type": "markdown",
   "id": "173ebce9",
   "metadata": {},
   "source": [
    "..."
   ]
  },
  {
   "cell_type": "markdown",
   "id": "929a144c",
   "metadata": {},
   "source": [
    "### Projeto de teste de habilidades da empresa Tractian."
   ]
  },
  {
   "cell_type": "markdown",
   "id": "c731afef",
   "metadata": {},
   "source": [
    "#### Eu tenho o costume de fazer meus projetos em inglês para praticar e ter cada fez mais afinidade com o idioma, recebi o e-mail do teste em inglês então acho que não tem problema fazer do jeito que estou acostumado."
   ]
  },
  {
   "cell_type": "markdown",
   "id": "2fb26010",
   "metadata": {},
   "source": [
    "..."
   ]
  },
  {
   "cell_type": "markdown",
   "id": "f3b656ed",
   "metadata": {},
   "source": [
    "### Explaning the data and exposing the case."
   ]
  },
  {
   "cell_type": "markdown",
   "id": "e1b80c71",
   "metadata": {},
   "source": [
    "The documenthave 20 files .csv that represent the collections of a compressor in a refrigerator. realized by our device \"band-aid\", with less than 1 minute each collection every hour."
   ]
  },
  {
   "cell_type": "markdown",
   "id": "10de90c9",
   "metadata": {},
   "source": [
    "Objectives:\n",
    "+ First objective is identify patterns.\n",
    "+ The second objective is make make a algorithm that can automatically calculete how many time the refrigerator was turned on and turned off.\n",
    "+ the third objective is get analyzing about the condition of our refrigerator, is it unbalanced? Scruffy? What is the condition of it in."
   ]
  },
  {
   "cell_type": "markdown",
   "id": "0fdf8f45",
   "metadata": {},
   "source": [
    "..."
   ]
  },
  {
   "cell_type": "markdown",
   "id": "251ad824",
   "metadata": {},
   "source": [
    "### Importing libraries."
   ]
  },
  {
   "cell_type": "code",
   "execution_count": 55,
   "id": "31ef5068",
   "metadata": {},
   "outputs": [],
   "source": [
    "import seaborn as sns\n",
    "import matplotlib.pyplot as plt\n",
    "import pandas as pd\n",
    "import numpy as np\n",
    "from datetime import datetime\n",
    "import statsmodels.formula.api as smf\n",
    "from sklearn import metrics\n",
    "from scipy import stats\n",
    "sns.set_style('whitegrid')"
   ]
  },
  {
   "cell_type": "code",
   "execution_count": 56,
   "id": "b1975715",
   "metadata": {},
   "outputs": [],
   "source": [
    "df = pd.read_csv(r'/home/tyrslayer/Documents/Coletas-Geladeira/1589679298-1589679343.csv')"
   ]
  },
  {
   "cell_type": "markdown",
   "id": "874404ad",
   "metadata": {},
   "source": [
    "### Exploring and modeling."
   ]
  },
  {
   "cell_type": "code",
   "execution_count": 57,
   "id": "b63f43cf",
   "metadata": {},
   "outputs": [
    {
     "data": {
      "text/html": [
       "<div>\n",
       "<style scoped>\n",
       "    .dataframe tbody tr th:only-of-type {\n",
       "        vertical-align: middle;\n",
       "    }\n",
       "\n",
       "    .dataframe tbody tr th {\n",
       "        vertical-align: top;\n",
       "    }\n",
       "\n",
       "    .dataframe thead th {\n",
       "        text-align: right;\n",
       "    }\n",
       "</style>\n",
       "<table border=\"1\" class=\"dataframe\">\n",
       "  <thead>\n",
       "    <tr style=\"text-align: right;\">\n",
       "      <th></th>\n",
       "      <th>-8.84</th>\n",
       "      <th>0.97</th>\n",
       "      <th>0.02</th>\n",
       "      <th>38.6</th>\n",
       "    </tr>\n",
       "  </thead>\n",
       "  <tbody>\n",
       "    <tr>\n",
       "      <th>0</th>\n",
       "      <td>-8.81</td>\n",
       "      <td>1.40</td>\n",
       "      <td>-0.49</td>\n",
       "      <td>38.55</td>\n",
       "    </tr>\n",
       "    <tr>\n",
       "      <th>1</th>\n",
       "      <td>-8.91</td>\n",
       "      <td>0.72</td>\n",
       "      <td>-1.68</td>\n",
       "      <td>38.65</td>\n",
       "    </tr>\n",
       "  </tbody>\n",
       "</table>\n",
       "</div>"
      ],
      "text/plain": [
       "   -8.84  0.97  0.02   38.6\n",
       "0  -8.81  1.40 -0.49  38.55\n",
       "1  -8.91  0.72 -1.68  38.65"
      ]
     },
     "execution_count": 57,
     "metadata": {},
     "output_type": "execute_result"
    }
   ],
   "source": [
    "df.head(2)"
   ]
  },
  {
   "cell_type": "code",
   "execution_count": 58,
   "id": "02e50bc3",
   "metadata": {},
   "outputs": [
    {
     "data": {
      "text/html": [
       "<div>\n",
       "<style scoped>\n",
       "    .dataframe tbody tr th:only-of-type {\n",
       "        vertical-align: middle;\n",
       "    }\n",
       "\n",
       "    .dataframe tbody tr th {\n",
       "        vertical-align: top;\n",
       "    }\n",
       "\n",
       "    .dataframe thead th {\n",
       "        text-align: right;\n",
       "    }\n",
       "</style>\n",
       "<table border=\"1\" class=\"dataframe\">\n",
       "  <thead>\n",
       "    <tr style=\"text-align: right;\">\n",
       "      <th></th>\n",
       "      <th>-8.84</th>\n",
       "      <th>0.97</th>\n",
       "      <th>0.02</th>\n",
       "      <th>38.6</th>\n",
       "    </tr>\n",
       "  </thead>\n",
       "  <tbody>\n",
       "    <tr>\n",
       "      <th>0</th>\n",
       "      <td>NaN</td>\n",
       "      <td>NaN</td>\n",
       "      <td>NaN</td>\n",
       "      <td>NaN</td>\n",
       "    </tr>\n",
       "    <tr>\n",
       "      <th>1</th>\n",
       "      <td>-8.81</td>\n",
       "      <td>1.4</td>\n",
       "      <td>-0.49</td>\n",
       "      <td>38.55</td>\n",
       "    </tr>\n",
       "  </tbody>\n",
       "</table>\n",
       "</div>"
      ],
      "text/plain": [
       "   -8.84  0.97  0.02   38.6\n",
       "0    NaN   NaN   NaN    NaN\n",
       "1  -8.81   1.4 -0.49  38.55"
      ]
     },
     "execution_count": 58,
     "metadata": {},
     "output_type": "execute_result"
    }
   ],
   "source": [
    "df2 = df.shift(1)\n",
    "df3 = df2\n",
    "df3.head(2)"
   ]
  },
  {
   "cell_type": "code",
   "execution_count": 59,
   "id": "20aaadf0",
   "metadata": {},
   "outputs": [],
   "source": [
    "df3.loc[0] = df2.columns"
   ]
  },
  {
   "cell_type": "code",
   "execution_count": 60,
   "id": "dbcc305c",
   "metadata": {},
   "outputs": [],
   "source": [
    "df3.columns = ['x','y', 'z', 'e']"
   ]
  },
  {
   "cell_type": "code",
   "execution_count": 61,
   "id": "0c78dc3e",
   "metadata": {},
   "outputs": [
    {
     "data": {
      "text/plain": [
       "x    object\n",
       "y    object\n",
       "z    object\n",
       "dtype: object"
      ]
     },
     "execution_count": 61,
     "metadata": {},
     "output_type": "execute_result"
    }
   ],
   "source": [
    "df3 = df3.drop(['e'], axis=1)\n",
    "df3.dtypes"
   ]
  },
  {
   "cell_type": "code",
   "execution_count": 62,
   "id": "98fede03",
   "metadata": {},
   "outputs": [],
   "source": [
    "df3 = df3.astype('float')"
   ]
  },
  {
   "cell_type": "code",
   "execution_count": 63,
   "id": "5fa66df1",
   "metadata": {},
   "outputs": [
    {
     "data": {
      "text/plain": [
       "x    float64\n",
       "y    float64\n",
       "z    float64\n",
       "dtype: object"
      ]
     },
     "execution_count": 63,
     "metadata": {},
     "output_type": "execute_result"
    }
   ],
   "source": [
    "df3.dtypes"
   ]
  },
  {
   "cell_type": "code",
   "execution_count": 64,
   "id": "8b7bc90b",
   "metadata": {},
   "outputs": [
    {
     "data": {
      "text/plain": [
       "x    0\n",
       "y    0\n",
       "z    0\n",
       "dtype: int64"
      ]
     },
     "execution_count": 64,
     "metadata": {},
     "output_type": "execute_result"
    }
   ],
   "source": [
    "df3.isnull().sum()"
   ]
  },
  {
   "cell_type": "markdown",
   "id": "dc947b3d",
   "metadata": {},
   "source": [
    "With the code above we can that our dataset don't have any missing value. Now our data is ready."
   ]
  },
  {
   "cell_type": "markdown",
   "id": "d317e98e",
   "metadata": {},
   "source": [
    "## 1# Challenge..."
   ]
  },
  {
   "cell_type": "markdown",
   "id": "ae3346e7",
   "metadata": {},
   "source": [
    "### Analizing to find out patterns."
   ]
  },
  {
   "cell_type": "code",
   "execution_count": 65,
   "id": "bf6d3129",
   "metadata": {},
   "outputs": [
    {
     "data": {
      "image/png": "[encoded data removed]",
      "text/plain": [
       "<Figure size 432x288 with 2 Axes>"
      ]
     },
     "metadata": {},
     "output_type": "display_data"
    }
   ],
   "source": [
    "sns.heatmap(df3.corr(), annot=True)\n",
    "plt.show()"
   ]
  },
  {
   "cell_type": "markdown",
   "id": "861066b5",
   "metadata": {},
   "source": [
    "Using a method to find out the correlation at our columns, we got in the columns \"x\" a very strong correlation with the column \"y\" reaching 0.99 and moderate strong correlation with the column \"z\" reaching 0.73. We got in the column \"y\" a strong correlation with the column \"z\" reaching 0.77."
   ]
  },
  {
   "cell_type": "markdown",
   "id": "86c3fcc0",
   "metadata": {},
   "source": [
    "Let's see if these correlation is linear or not."
   ]
  },
  {
   "cell_type": "code",
   "execution_count": 66,
   "id": "086c5bf9",
   "metadata": {},
   "outputs": [
    {
     "data": {
      "text/plain": [
       "(0.0, 0.4265)"
      ]
     },
     "execution_count": 66,
     "metadata": {},
     "output_type": "execute_result"
    },
    {
     "data": {
      "image/png": "[encoded data removed]",
      "text/plain": [
       "<Figure size 1080x576 with 1 Axes>"
      ]
     },
     "metadata": {},
     "output_type": "display_data"
    }
   ],
   "source": [
    "plt.figure(figsize=(15,8))\n",
    "sns.regplot(x='x', y='z', data=df3)\n",
    "plt.ylim(0,)"
   ]
  },
  {
   "cell_type": "code",
   "execution_count": 67,
   "id": "11769511",
   "metadata": {},
   "outputs": [
    {
     "data": {
      "text/plain": [
       "(0.0, 1.891839591278081)"
      ]
     },
     "execution_count": 67,
     "metadata": {},
     "output_type": "execute_result"
    },
    {
     "data": {
      "image/png": "[encoded data removed]",
      "text/plain": [
       "<Figure size 1080x576 with 1 Axes>"
      ]
     },
     "metadata": {},
     "output_type": "display_data"
    }
   ],
   "source": [
    "plt.figure(figsize=(15,8))\n",
    "sns.regplot(x='x', y='y', data=df3)\n",
    "plt.ylim(0,)"
   ]
  },
  {
   "cell_type": "code",
   "execution_count": 68,
   "id": "b49e7167",
   "metadata": {},
   "outputs": [
    {
     "data": {
      "text/plain": [
       "(0.0, 1.8054999999999999)"
      ]
     },
     "execution_count": 68,
     "metadata": {},
     "output_type": "execute_result"
    },
    {
     "data": {
      "image/png": "[encoded data removed]",
      "text/plain": [
       "<Figure size 1080x576 with 1 Axes>"
      ]
     },
     "metadata": {},
     "output_type": "display_data"
    }
   ],
   "source": [
    "plt.figure(figsize=(15,8))\n",
    "sns.regplot(x='z', y='y', data=df3)\n",
    "plt.ylim(0,)"
   ]
  },
  {
   "cell_type": "markdown",
   "id": "90f41783",
   "metadata": {},
   "source": [
    "Now we that \"x\" and \"z\" haven't any linear corrrelation and if we would make a model of machine learning, we should use the column \"y\" as the column target with the params of the column \"z\" and \"x\"."
   ]
  },
  {
   "cell_type": "code",
   "execution_count": 69,
   "id": "d24b498a",
   "metadata": {
    "scrolled": true
   },
   "outputs": [
    {
     "data": {
      "text/html": [
       "<div>\n",
       "<style scoped>\n",
       "    .dataframe tbody tr th:only-of-type {\n",
       "        vertical-align: middle;\n",
       "    }\n",
       "\n",
       "    .dataframe tbody tr th {\n",
       "        vertical-align: top;\n",
       "    }\n",
       "\n",
       "    .dataframe thead th {\n",
       "        text-align: right;\n",
       "    }\n",
       "</style>\n",
       "<table border=\"1\" class=\"dataframe\">\n",
       "  <thead>\n",
       "    <tr style=\"text-align: right;\">\n",
       "      <th></th>\n",
       "      <th>x</th>\n",
       "      <th>y</th>\n",
       "      <th>z</th>\n",
       "    </tr>\n",
       "  </thead>\n",
       "  <tbody>\n",
       "    <tr>\n",
       "      <th>0</th>\n",
       "      <td>-8.84</td>\n",
       "      <td>0.97</td>\n",
       "      <td>0.02</td>\n",
       "    </tr>\n",
       "    <tr>\n",
       "      <th>1</th>\n",
       "      <td>-8.81</td>\n",
       "      <td>1.40</td>\n",
       "      <td>-0.49</td>\n",
       "    </tr>\n",
       "    <tr>\n",
       "      <th>2</th>\n",
       "      <td>-8.91</td>\n",
       "      <td>0.72</td>\n",
       "      <td>-1.68</td>\n",
       "    </tr>\n",
       "    <tr>\n",
       "      <th>3</th>\n",
       "      <td>-9.59</td>\n",
       "      <td>-0.79</td>\n",
       "      <td>-2.61</td>\n",
       "    </tr>\n",
       "    <tr>\n",
       "      <th>4</th>\n",
       "      <td>-9.85</td>\n",
       "      <td>-1.53</td>\n",
       "      <td>-2.27</td>\n",
       "    </tr>\n",
       "    <tr>\n",
       "      <th>...</th>\n",
       "      <td>...</td>\n",
       "      <td>...</td>\n",
       "      <td>...</td>\n",
       "    </tr>\n",
       "    <tr>\n",
       "      <th>12721</th>\n",
       "      <td>-9.79</td>\n",
       "      <td>-1.31</td>\n",
       "      <td>-1.62</td>\n",
       "    </tr>\n",
       "    <tr>\n",
       "      <th>12722</th>\n",
       "      <td>-9.21</td>\n",
       "      <td>0.15</td>\n",
       "      <td>-0.25</td>\n",
       "    </tr>\n",
       "    <tr>\n",
       "      <th>12723</th>\n",
       "      <td>-8.81</td>\n",
       "      <td>1.53</td>\n",
       "      <td>0.15</td>\n",
       "    </tr>\n",
       "    <tr>\n",
       "      <th>12724</th>\n",
       "      <td>-8.93</td>\n",
       "      <td>0.96</td>\n",
       "      <td>-1.19</td>\n",
       "    </tr>\n",
       "    <tr>\n",
       "      <th>12725</th>\n",
       "      <td>-9.21</td>\n",
       "      <td>-0.10</td>\n",
       "      <td>-2.21</td>\n",
       "    </tr>\n",
       "  </tbody>\n",
       "</table>\n",
       "<p>12726 rows × 3 columns</p>\n",
       "</div>"
      ],
      "text/plain": [
       "          x     y     z\n",
       "0     -8.84  0.97  0.02\n",
       "1     -8.81  1.40 -0.49\n",
       "2     -8.91  0.72 -1.68\n",
       "3     -9.59 -0.79 -2.61\n",
       "4     -9.85 -1.53 -2.27\n",
       "...     ...   ...   ...\n",
       "12721 -9.79 -1.31 -1.62\n",
       "12722 -9.21  0.15 -0.25\n",
       "12723 -8.81  1.53  0.15\n",
       "12724 -8.93  0.96 -1.19\n",
       "12725 -9.21 -0.10 -2.21\n",
       "\n",
       "[12726 rows x 3 columns]"
      ]
     },
     "metadata": {},
     "output_type": "display_data"
    }
   ],
   "source": [
    "display(df3)"
   ]
  },
  {
   "cell_type": "markdown",
   "id": "3b1654cd",
   "metadata": {},
   "source": [
    "The display above make me curious to know the variace of these columns."
   ]
  },
  {
   "cell_type": "code",
   "execution_count": 70,
   "id": "6cc0c0fd",
   "metadata": {
    "scrolled": true
   },
   "outputs": [
    {
     "data": {
      "text/plain": [
       "0.15997504487849903"
      ]
     },
     "execution_count": 70,
     "metadata": {},
     "output_type": "execute_result"
    }
   ],
   "source": [
    "df3['x'].var()"
   ]
  },
  {
   "cell_type": "markdown",
   "id": "8063933a",
   "metadata": {},
   "source": [
    "Seeing above we notice that our column 'x' have values a variation of 0.15(or speaking in portuguese 0,15)."
   ]
  },
  {
   "cell_type": "code",
   "execution_count": 71,
   "id": "45ddd495",
   "metadata": {},
   "outputs": [
    {
     "data": {
      "text/plain": [
       "1.1423590234283536"
      ]
     },
     "execution_count": 71,
     "metadata": {},
     "output_type": "execute_result"
    }
   ],
   "source": [
    "df3['y'].var()"
   ]
  },
  {
   "cell_type": "markdown",
   "id": "cc9622de",
   "metadata": {},
   "source": [
    "With this secund graph we notice that the column 'y' have a variation of 1.14(or speaking in portuguese 1,14)."
   ]
  },
  {
   "cell_type": "code",
   "execution_count": 72,
   "id": "eb1a881f",
   "metadata": {},
   "outputs": [
    {
     "data": {
      "text/plain": [
       "1.015203339349807"
      ]
     },
     "execution_count": 72,
     "metadata": {},
     "output_type": "execute_result"
    }
   ],
   "source": [
    "df3['z'].var()"
   ]
  },
  {
   "cell_type": "markdown",
   "id": "70ee5a7b",
   "metadata": {},
   "source": [
    "And with the last graph above we notice that the column 'z' have a variation of 1.01(or speaking in portuguese 1,01)."
   ]
  },
  {
   "cell_type": "markdown",
   "id": "7c12f5f9",
   "metadata": {},
   "source": [
    "## 1# Goal completed."
   ]
  },
  {
   "cell_type": "markdown",
   "id": "bbcf4f9e",
   "metadata": {},
   "source": [
    "..."
   ]
  },
  {
   "cell_type": "markdown",
   "id": "2f6a8910",
   "metadata": {},
   "source": [
    "## 2# Challenge..."
   ]
  },
  {
   "cell_type": "markdown",
   "id": "5b18cd95",
   "metadata": {},
   "source": [
    "As I understand the each file have two time in the name that can be translated, the first time in the name is the time of when the refrigerator was on, and the secund is the time when the refrigerator turned off. Explaning what I understanded, let's get stated."
   ]
  },
  {
   "cell_type": "markdown",
   "id": "10a83dc7",
   "metadata": {},
   "source": [
    "The following 3 rows of code is to test the slicing of the string that we will use to create the function."
   ]
  },
  {
   "cell_type": "code",
   "execution_count": 73,
   "id": "8b9abdd8",
   "metadata": {},
   "outputs": [],
   "source": [
    "test = '1589679298-1589679343.csv'"
   ]
  },
  {
   "cell_type": "code",
   "execution_count": 74,
   "id": "58e3e836",
   "metadata": {},
   "outputs": [
    {
     "data": {
      "text/plain": [
       "'1589679343'"
      ]
     },
     "execution_count": 74,
     "metadata": {},
     "output_type": "execute_result"
    }
   ],
   "source": [
    "test[-14:-4]"
   ]
  },
  {
   "cell_type": "code",
   "execution_count": 75,
   "id": "df724f8a",
   "metadata": {},
   "outputs": [
    {
     "data": {
      "text/plain": [
       "'1589679298'"
      ]
     },
     "execution_count": 75,
     "metadata": {},
     "output_type": "execute_result"
    }
   ],
   "source": [
    "test[-26:-15]"
   ]
  },
  {
   "cell_type": "markdown",
   "id": "0aa0cafa",
   "metadata": {},
   "source": [
    "#### Creating the first algothmn..."
   ]
  },
  {
   "cell_type": "code",
   "execution_count": 76,
   "id": "d036de54",
   "metadata": {},
   "outputs": [],
   "source": [
    "#Use our device to see how many times the refrigerator was on, puting the all the name of file between parameters.\n",
    "def deviceTract_timeOn(data):\n",
    "    from datetime import datetime\n",
    "    b = datetime.fromtimestamp(int(data[-14:-4]))\n",
    "    a = datetime.fromtimestamp(int(data[-26:-15]))\n",
    "    return b-a"
   ]
  },
  {
   "cell_type": "markdown",
   "id": "b6df19f1",
   "metadata": {},
   "source": [
    "Use the function above with the name of the file in quotes and you will know how much time the refrigerator was turned on."
   ]
  },
  {
   "cell_type": "markdown",
   "id": "e243f145",
   "metadata": {},
   "source": [
    "Let's test our algothmn..."
   ]
  },
  {
   "cell_type": "code",
   "execution_count": 77,
   "id": "94969169",
   "metadata": {
    "scrolled": true
   },
   "outputs": [
    {
     "data": {
      "text/plain": [
       "datetime.timedelta(seconds=45)"
      ]
     },
     "execution_count": 77,
     "metadata": {},
     "output_type": "execute_result"
    }
   ],
   "source": [
    "deviceTract_timeOn('1589679298-1589679343.csv')"
   ]
  },
  {
   "cell_type": "markdown",
   "id": "49dab7d7",
   "metadata": {},
   "source": [
    "As we can see our algothmn is showing that the first refrigerator  was turned on 45 seconds."
   ]
  },
  {
   "cell_type": "markdown",
   "id": "693be140",
   "metadata": {},
   "source": [
    "#### Creating the secund algothmn..."
   ]
  },
  {
   "cell_type": "code",
   "execution_count": 78,
   "id": "746b9011",
   "metadata": {},
   "outputs": [],
   "source": [
    "#Use our device to see how many times the refrigerator was off, puting the all the name of file between parameters.\n",
    "def deviceTract_timeOff(data1, data2):\n",
    "    from datetime import datetime\n",
    "    b = datetime.fromtimestamp(int(data1[-14:-4]))\n",
    "    c = datetime.fromtimestamp(int(data2[-26:-15]))\n",
    "    return c-b"
   ]
  },
  {
   "cell_type": "markdown",
   "id": "736338af",
   "metadata": {},
   "source": [
    "Use the function above with the name of the first and the secund file in quotes, and you will know how much time the refrigerator was turned off."
   ]
  },
  {
   "cell_type": "markdown",
   "id": "1a841a42",
   "metadata": {},
   "source": [
    "Let's test our algothmn..."
   ]
  },
  {
   "cell_type": "code",
   "execution_count": 79,
   "id": "278d66a8",
   "metadata": {},
   "outputs": [
    {
     "data": {
      "text/plain": [
       "datetime.timedelta(seconds=3631)"
      ]
     },
     "execution_count": 79,
     "metadata": {},
     "output_type": "execute_result"
    }
   ],
   "source": [
    "deviceTract_timeOff('1589679298-1589679343.csv', '1589682974-1589683028.csv')"
   ]
  },
  {
   "cell_type": "code",
   "execution_count": 80,
   "id": "22b1b340",
   "metadata": {
    "scrolled": true
   },
   "outputs": [
    {
     "data": {
      "text/plain": [
       "60.516666666666666"
      ]
     },
     "execution_count": 80,
     "metadata": {},
     "output_type": "execute_result"
    }
   ],
   "source": [
    "3631/60"
   ]
  },
  {
   "cell_type": "markdown",
   "id": "f07e474a",
   "metadata": {},
   "source": [
    "With the deviceTract_timeOff we can see that time of the refrigerator was turned off from the first file from the secund was 3631 seconds that is 60 minutes."
   ]
  },
  {
   "cell_type": "markdown",
   "id": "3d385988",
   "metadata": {},
   "source": [
    "## 2# Goal completed."
   ]
  },
  {
   "cell_type": "markdown",
   "id": "cbc1699a",
   "metadata": {},
   "source": [
    "..."
   ]
  },
  {
   "cell_type": "markdown",
   "id": "59ff70af",
   "metadata": {},
   "source": [
    "## 3# Challenge..."
   ]
  },
  {
   "cell_type": "code",
   "execution_count": 81,
   "id": "239340d3",
   "metadata": {
    "scrolled": true
   },
   "outputs": [
    {
     "data": {
      "text/html": [
       "<div>\n",
       "<style scoped>\n",
       "    .dataframe tbody tr th:only-of-type {\n",
       "        vertical-align: middle;\n",
       "    }\n",
       "\n",
       "    .dataframe tbody tr th {\n",
       "        vertical-align: top;\n",
       "    }\n",
       "\n",
       "    .dataframe thead th {\n",
       "        text-align: right;\n",
       "    }\n",
       "</style>\n",
       "<table border=\"1\" class=\"dataframe\">\n",
       "  <thead>\n",
       "    <tr style=\"text-align: right;\">\n",
       "      <th></th>\n",
       "      <th>-9.76</th>\n",
       "      <th>-1.26</th>\n",
       "      <th>-2.73</th>\n",
       "      <th>36.72</th>\n",
       "    </tr>\n",
       "  </thead>\n",
       "  <tbody>\n",
       "    <tr>\n",
       "      <th>0</th>\n",
       "      <td>-9.85</td>\n",
       "      <td>-1.26</td>\n",
       "      <td>-1.35</td>\n",
       "      <td>36.77</td>\n",
       "    </tr>\n",
       "    <tr>\n",
       "      <th>1</th>\n",
       "      <td>-9.34</td>\n",
       "      <td>0.15</td>\n",
       "      <td>-0.11</td>\n",
       "      <td>36.77</td>\n",
       "    </tr>\n",
       "    <tr>\n",
       "      <th>2</th>\n",
       "      <td>-8.76</td>\n",
       "      <td>1.54</td>\n",
       "      <td>0.26</td>\n",
       "      <td>36.72</td>\n",
       "    </tr>\n",
       "  </tbody>\n",
       "</table>\n",
       "</div>"
      ],
      "text/plain": [
       "   -9.76  -1.26  -2.73  36.72\n",
       "0  -9.85  -1.26  -1.35  36.77\n",
       "1  -9.34   0.15  -0.11  36.77\n",
       "2  -8.76   1.54   0.26  36.72"
      ]
     },
     "execution_count": 81,
     "metadata": {},
     "output_type": "execute_result"
    }
   ],
   "source": [
    "ff = pd.read_csv(r'/home/tyrslayer/Documents/Coletas-Geladeira/1589682974-1589683028.csv')\n",
    "ff.head(3)"
   ]
  },
  {
   "cell_type": "markdown",
   "id": "17160444",
   "metadata": {},
   "source": [
    "For find out the condition of each refrigerator we should get modeling each data that we will use, so I will create a function to get modeling automacally."
   ]
  },
  {
   "cell_type": "code",
   "execution_count": 82,
   "id": "d6735b4b",
   "metadata": {},
   "outputs": [],
   "source": [
    "def modelingDataTract(data):\n",
    "    import pandas as pd\n",
    "    df = pd.read_csv(data)\n",
    "    df = df.shift(1)\n",
    "    df.loc[0] = df.columns\n",
    "    df.columns = ['x','y', 'z', 'e']\n",
    "    df = df.drop(['e'], axis=1)\n",
    "    df = df.astype('float')\n",
    "    return df"
   ]
  },
  {
   "cell_type": "markdown",
   "id": "bd1ee515",
   "metadata": {},
   "source": [
    "The function its ready."
   ]
  },
  {
   "cell_type": "code",
   "execution_count": 83,
   "id": "169efc5f",
   "metadata": {},
   "outputs": [
    {
     "data": {
      "text/html": [
       "<div>\n",
       "<style scoped>\n",
       "    .dataframe tbody tr th:only-of-type {\n",
       "        vertical-align: middle;\n",
       "    }\n",
       "\n",
       "    .dataframe tbody tr th {\n",
       "        vertical-align: top;\n",
       "    }\n",
       "\n",
       "    .dataframe thead th {\n",
       "        text-align: right;\n",
       "    }\n",
       "</style>\n",
       "<table border=\"1\" class=\"dataframe\">\n",
       "  <thead>\n",
       "    <tr style=\"text-align: right;\">\n",
       "      <th></th>\n",
       "      <th>x</th>\n",
       "      <th>y</th>\n",
       "      <th>z</th>\n",
       "    </tr>\n",
       "  </thead>\n",
       "  <tbody>\n",
       "    <tr>\n",
       "      <th>0</th>\n",
       "      <td>-9.76</td>\n",
       "      <td>-1.26</td>\n",
       "      <td>-2.73</td>\n",
       "    </tr>\n",
       "    <tr>\n",
       "      <th>1</th>\n",
       "      <td>-9.85</td>\n",
       "      <td>-1.26</td>\n",
       "      <td>-1.35</td>\n",
       "    </tr>\n",
       "    <tr>\n",
       "      <th>2</th>\n",
       "      <td>-9.34</td>\n",
       "      <td>0.15</td>\n",
       "      <td>-0.11</td>\n",
       "    </tr>\n",
       "  </tbody>\n",
       "</table>\n",
       "</div>"
      ],
      "text/plain": [
       "      x     y     z\n",
       "0 -9.76 -1.26 -2.73\n",
       "1 -9.85 -1.26 -1.35\n",
       "2 -9.34  0.15 -0.11"
      ]
     },
     "execution_count": 83,
     "metadata": {},
     "output_type": "execute_result"
    }
   ],
   "source": [
    "datatest1 = modelingDataTract(r'/home/tyrslayer/Documents/Coletas-Geladeira/1589682974-1589683028.csv')\n",
    "datatest1.head(3)"
   ]
  },
  {
   "cell_type": "code",
   "execution_count": 84,
   "id": "bb922dc1",
   "metadata": {},
   "outputs": [
    {
     "data": {
      "text/html": [
       "<div>\n",
       "<style scoped>\n",
       "    .dataframe tbody tr th:only-of-type {\n",
       "        vertical-align: middle;\n",
       "    }\n",
       "\n",
       "    .dataframe tbody tr th {\n",
       "        vertical-align: top;\n",
       "    }\n",
       "\n",
       "    .dataframe thead th {\n",
       "        text-align: right;\n",
       "    }\n",
       "</style>\n",
       "<table border=\"1\" class=\"dataframe\">\n",
       "  <thead>\n",
       "    <tr style=\"text-align: right;\">\n",
       "      <th></th>\n",
       "      <th>x</th>\n",
       "      <th>y</th>\n",
       "      <th>z</th>\n",
       "    </tr>\n",
       "  </thead>\n",
       "  <tbody>\n",
       "    <tr>\n",
       "      <th>0</th>\n",
       "      <td>-9.58</td>\n",
       "      <td>-0.92</td>\n",
       "      <td>-2.36</td>\n",
       "    </tr>\n",
       "    <tr>\n",
       "      <th>1</th>\n",
       "      <td>-9.67</td>\n",
       "      <td>-1.35</td>\n",
       "      <td>-1.72</td>\n",
       "    </tr>\n",
       "    <tr>\n",
       "      <th>2</th>\n",
       "      <td>-9.42</td>\n",
       "      <td>-0.38</td>\n",
       "      <td>-0.88</td>\n",
       "    </tr>\n",
       "  </tbody>\n",
       "</table>\n",
       "</div>"
      ],
      "text/plain": [
       "      x     y     z\n",
       "0 -9.58 -0.92 -2.36\n",
       "1 -9.67 -1.35 -1.72\n",
       "2 -9.42 -0.38 -0.88"
      ]
     },
     "execution_count": 84,
     "metadata": {},
     "output_type": "execute_result"
    }
   ],
   "source": [
    "datatest2 = modelingDataTract(r'/home/tyrslayer/Documents/Coletas-Geladeira/1589749293-1589749360.csv')\n",
    "datatest2.head(3)"
   ]
  },
  {
   "cell_type": "markdown",
   "id": "b2e956f7",
   "metadata": {},
   "source": [
    "We are going to use the variable 'datatest1' and the variable 'datatest2' to test the condition of the refrigerators, datatest1 is the second file in the folder of files, and the datatest2 is the last file."
   ]
  },
  {
   "cell_type": "markdown",
   "id": "0803ac19",
   "metadata": {},
   "source": [
    "..."
   ]
  },
  {
   "cell_type": "markdown",
   "id": "9fe7577c",
   "metadata": {},
   "source": [
    "My idea is create and train a machine learning model and test the metrics in others files, we have 20 files to test it."
   ]
  },
  {
   "cell_type": "markdown",
   "id": "b2aedef4",
   "metadata": {},
   "source": [
    "As we already now, we should use the column 'y' as dependent variable to create a model of machine learning."
   ]
  },
  {
   "cell_type": "code",
   "execution_count": 85,
   "id": "3ff8279a",
   "metadata": {},
   "outputs": [
    {
     "data": {
      "text/plain": [
       "12726"
      ]
     },
     "execution_count": 85,
     "metadata": {},
     "output_type": "execute_result"
    }
   ],
   "source": [
    "len(df3)"
   ]
  },
  {
   "cell_type": "code",
   "execution_count": 86,
   "id": "d3e3bd33",
   "metadata": {},
   "outputs": [
    {
     "data": {
      "text/plain": [
       "6363.0"
      ]
     },
     "execution_count": 86,
     "metadata": {},
     "output_type": "execute_result"
    }
   ],
   "source": [
    "12726/2"
   ]
  },
  {
   "cell_type": "code",
   "execution_count": 87,
   "id": "372e6956",
   "metadata": {},
   "outputs": [],
   "source": [
    "Train = df3.iloc[-12726:-6363,:]\n",
    "Test = df3.iloc[-6363:,:]"
   ]
  },
  {
   "cell_type": "code",
   "execution_count": 88,
   "id": "841f56f3",
   "metadata": {},
   "outputs": [],
   "source": [
    "formula = 'y~x+z'"
   ]
  },
  {
   "cell_type": "markdown",
   "id": "c5e3a4ed",
   "metadata": {},
   "source": [
    "We will use the model ols to train and test the files."
   ]
  },
  {
   "cell_type": "code",
   "execution_count": 89,
   "id": "9fb560f1",
   "metadata": {},
   "outputs": [
    {
     "data": {
      "text/html": [
       "<table class=\"simpletable\">\n",
       "<caption>OLS Regression Results</caption>\n",
       "<tr>\n",
       "  <th>Dep. Variable:</th>            <td>y</td>        <th>  R-squared:         </th> <td>   0.980</td> \n",
       "</tr>\n",
       "<tr>\n",
       "  <th>Model:</th>                   <td>OLS</td>       <th>  Adj. R-squared:    </th> <td>   0.980</td> \n",
       "</tr>\n",
       "<tr>\n",
       "  <th>Method:</th>             <td>Least Squares</td>  <th>  F-statistic:       </th> <td>1.538e+05</td>\n",
       "</tr>\n",
       "<tr>\n",
       "  <th>Date:</th>             <td>Sat, 12 Jun 2021</td> <th>  Prob (F-statistic):</th>  <td>  0.00</td>  \n",
       "</tr>\n",
       "<tr>\n",
       "  <th>Time:</th>                 <td>12:07:48</td>     <th>  Log-Likelihood:    </th> <td>  2950.0</td> \n",
       "</tr>\n",
       "<tr>\n",
       "  <th>No. Observations:</th>      <td>  6363</td>      <th>  AIC:               </th> <td>  -5894.</td> \n",
       "</tr>\n",
       "<tr>\n",
       "  <th>Df Residuals:</th>          <td>  6360</td>      <th>  BIC:               </th> <td>  -5874.</td> \n",
       "</tr>\n",
       "<tr>\n",
       "  <th>Df Model:</th>              <td>     2</td>      <th>                     </th>     <td> </td>    \n",
       "</tr>\n",
       "<tr>\n",
       "  <th>Covariance Type:</th>      <td>nonrobust</td>    <th>                     </th>     <td> </td>    \n",
       "</tr>\n",
       "</table>\n",
       "<table class=\"simpletable\">\n",
       "<tr>\n",
       "      <td></td>         <th>coef</th>     <th>std err</th>      <th>t</th>      <th>P>|t|</th>  <th>[0.025</th>    <th>0.975]</th>  \n",
       "</tr>\n",
       "<tr>\n",
       "  <th>Intercept</th> <td>   22.5875</td> <td>    0.061</td> <td>  367.489</td> <td> 0.000</td> <td>   22.467</td> <td>   22.708</td>\n",
       "</tr>\n",
       "<tr>\n",
       "  <th>x</th>         <td>    2.4180</td> <td>    0.007</td> <td>  351.484</td> <td> 0.000</td> <td>    2.404</td> <td>    2.431</td>\n",
       "</tr>\n",
       "<tr>\n",
       "  <th>z</th>         <td>    0.1207</td> <td>    0.003</td> <td>   44.284</td> <td> 0.000</td> <td>    0.115</td> <td>    0.126</td>\n",
       "</tr>\n",
       "</table>\n",
       "<table class=\"simpletable\">\n",
       "<tr>\n",
       "  <th>Omnibus:</th>       <td>32.571</td> <th>  Durbin-Watson:     </th> <td>   2.423</td>\n",
       "</tr>\n",
       "<tr>\n",
       "  <th>Prob(Omnibus):</th> <td> 0.000</td> <th>  Jarque-Bera (JB):  </th> <td>  31.677</td>\n",
       "</tr>\n",
       "<tr>\n",
       "  <th>Skew:</th>          <td> 0.152</td> <th>  Prob(JB):          </th> <td>1.32e-07</td>\n",
       "</tr>\n",
       "<tr>\n",
       "  <th>Kurtosis:</th>      <td> 2.836</td> <th>  Cond. No.          </th> <td>    306.</td>\n",
       "</tr>\n",
       "</table><br/><br/>Notes:<br/>[1] Standard Errors assume that the covariance matrix of the errors is correctly specified."
      ],
      "text/plain": [
       "<class 'statsmodels.iolib.summary.Summary'>\n",
       "\"\"\"\n",
       "                            OLS Regression Results                            \n",
       "==============================================================================\n",
       "Dep. Variable:                      y   R-squared:                       0.980\n",
       "Model:                            OLS   Adj. R-squared:                  0.980\n",
       "Method:                 Least Squares   F-statistic:                 1.538e+05\n",
       "Date:                Sat, 12 Jun 2021   Prob (F-statistic):               0.00\n",
       "Time:                        12:07:48   Log-Likelihood:                 2950.0\n",
       "No. Observations:                6363   AIC:                            -5894.\n",
       "Df Residuals:                    6360   BIC:                            -5874.\n",
       "Df Model:                           2                                         \n",
       "Covariance Type:            nonrobust                                         \n",
       "==============================================================================\n",
       "                 coef    std err          t      P>|t|      [0.025      0.975]\n",
       "------------------------------------------------------------------------------\n",
       "Intercept     22.5875      0.061    367.489      0.000      22.467      22.708\n",
       "x              2.4180      0.007    351.484      0.000       2.404       2.431\n",
       "z              0.1207      0.003     44.284      0.000       0.115       0.126\n",
       "==============================================================================\n",
       "Omnibus:                       32.571   Durbin-Watson:                   2.423\n",
       "Prob(Omnibus):                  0.000   Jarque-Bera (JB):               31.677\n",
       "Skew:                           0.152   Prob(JB):                     1.32e-07\n",
       "Kurtosis:                       2.836   Cond. No.                         306.\n",
       "==============================================================================\n",
       "\n",
       "Notes:\n",
       "[1] Standard Errors assume that the covariance matrix of the errors is correctly specified.\n",
       "\"\"\""
      ]
     },
     "execution_count": 89,
     "metadata": {},
     "output_type": "execute_result"
    }
   ],
   "source": [
    "lm = smf.ols(formula = formula, data=Train).fit()\n",
    "lm.summary()"
   ]
  },
  {
   "cell_type": "markdown",
   "id": "e79d7636",
   "metadata": {},
   "source": [
    "As we can see in the line above, our model ols have 98% of R squared. We will use this model for predict and compare the standard deviation and the median of the column 'y' from others files."
   ]
  },
  {
   "cell_type": "code",
   "execution_count": 90,
   "id": "33ec92fb",
   "metadata": {},
   "outputs": [
    {
     "name": "stdout",
     "output_type": "stream",
     "text": [
      "1.068811968228441 -0.031362564827911416\n"
     ]
    }
   ],
   "source": [
    "print(df3['y'].std(), df3['y'].mean())"
   ]
  },
  {
   "cell_type": "code",
   "execution_count": null,
   "id": "e1372ca1",
   "metadata": {},
   "outputs": [],
   "source": []
  },
  {
   "cell_type": "code",
   "execution_count": 91,
   "id": "3ca45447",
   "metadata": {},
   "outputs": [],
   "source": [
    "pred_datatest1 = lm.predict(datatest1[['x', 'z']])\n",
    "y_datatest1 = datatest1['y']"
   ]
  },
  {
   "cell_type": "code",
   "execution_count": 92,
   "id": "084d3b20",
   "metadata": {},
   "outputs": [
    {
     "data": {
      "text/plain": [
       "0.9806141480384911"
      ]
     },
     "execution_count": 92,
     "metadata": {},
     "output_type": "execute_result"
    }
   ],
   "source": [
    "metrics.r2_score(y_datatest1, pred_datatest1)"
   ]
  },
  {
   "cell_type": "markdown",
   "id": "518d2194",
   "metadata": {},
   "source": [
    "Using our model in the second file of the folder, we received a R-squared of 98%."
   ]
  },
  {
   "cell_type": "code",
   "execution_count": 93,
   "id": "d4810ab9",
   "metadata": {
    "scrolled": true
   },
   "outputs": [
    {
     "name": "stdout",
     "output_type": "stream",
     "text": [
      "The standard deviation of the column y is: 1.083842588005986  and the median of the column y is: 0.017361132843060543\n",
      "The standard deviation of the column y that was predicted is: 1.1369732958308392  and the median of the column y that was predicted is: 0.0142411053900801\n"
     ]
    }
   ],
   "source": [
    "print('The standard deviation of the column y is:', y_datatest1.std(ddof=1), ' and the median of the column y is:', y_datatest1.mean())\n",
    "print('The standard deviation of the column y that was predicted is:', pred_datatest1.std(ddof=1), ' and the median of the column y that was predicted is:', pred_datatest1.mean())"
   ]
  },
  {
   "cell_type": "markdown",
   "id": "71b2e535",
   "metadata": {},
   "source": [
    "The values of standard deviation and the median received from the second file are not so far away."
   ]
  },
  {
   "cell_type": "markdown",
   "id": "b442b800",
   "metadata": {},
   "source": [
    "Now let's do it in the last file from the folder..."
   ]
  },
  {
   "cell_type": "code",
   "execution_count": 94,
   "id": "cc8c3024",
   "metadata": {},
   "outputs": [],
   "source": [
    "pred_datatest2 = lm.predict(datatest2[['x', 'z']])\n",
    "y_datatest2 = datatest2['y']"
   ]
  },
  {
   "cell_type": "code",
   "execution_count": 95,
   "id": "d6c056a8",
   "metadata": {},
   "outputs": [
    {
     "data": {
      "text/plain": [
       "0.8558536890489885"
      ]
     },
     "execution_count": 95,
     "metadata": {},
     "output_type": "execute_result"
    }
   ],
   "source": [
    "metrics.r2_score(y_datatest2, pred_datatest2)"
   ]
  },
  {
   "cell_type": "code",
   "execution_count": 96,
   "id": "3ca17121",
   "metadata": {},
   "outputs": [
    {
     "name": "stdout",
     "output_type": "stream",
     "text": [
      "The standard deviation of the column y is: 1.0982206488423516  and the median of the column y is: -0.0058164864441310055\n",
      "The standard deviation of the column y that was predicted is: 0.7438248301949791  and the median of the column y that was predicted is: -0.13110832975961195\n"
     ]
    }
   ],
   "source": [
    "print('The standard deviation of the column y is:', y_datatest2.std(ddof=1), ' and the median of the column y is:', y_datatest2.mean())\n",
    "print('The standard deviation of the column y that was predicted is:', pred_datatest2.std(ddof=1), ' and the median of the column y that was predicted is:', pred_datatest2.mean())"
   ]
  },
  {
   "cell_type": "markdown",
   "id": "6e00f473",
   "metadata": {},
   "source": [
    "We can see in the lines above that the R-squared is of 85%, I guess this R-squared so less, looking at the last line above we also can see that the last file have a strong difference comparing the standard deviation and the median between the actual and the predicted values."
   ]
  },
  {
   "cell_type": "markdown",
   "id": "2ca43ef6",
   "metadata": {},
   "source": [
    "Let's get comparing other file, from the middle of folder..."
   ]
  },
  {
   "cell_type": "code",
   "execution_count": 97,
   "id": "bd235e1a",
   "metadata": {},
   "outputs": [
    {
     "data": {
      "text/html": [
       "<div>\n",
       "<style scoped>\n",
       "    .dataframe tbody tr th:only-of-type {\n",
       "        vertical-align: middle;\n",
       "    }\n",
       "\n",
       "    .dataframe tbody tr th {\n",
       "        vertical-align: top;\n",
       "    }\n",
       "\n",
       "    .dataframe thead th {\n",
       "        text-align: right;\n",
       "    }\n",
       "</style>\n",
       "<table border=\"1\" class=\"dataframe\">\n",
       "  <thead>\n",
       "    <tr style=\"text-align: right;\">\n",
       "      <th></th>\n",
       "      <th>x</th>\n",
       "      <th>y</th>\n",
       "      <th>z</th>\n",
       "    </tr>\n",
       "  </thead>\n",
       "  <tbody>\n",
       "    <tr>\n",
       "      <th>0</th>\n",
       "      <td>-10.01</td>\n",
       "      <td>-1.38</td>\n",
       "      <td>-1.70</td>\n",
       "    </tr>\n",
       "    <tr>\n",
       "      <th>1</th>\n",
       "      <td>-9.44</td>\n",
       "      <td>-0.37</td>\n",
       "      <td>0.37</td>\n",
       "    </tr>\n",
       "    <tr>\n",
       "      <th>2</th>\n",
       "      <td>-8.63</td>\n",
       "      <td>1.33</td>\n",
       "      <td>0.68</td>\n",
       "    </tr>\n",
       "  </tbody>\n",
       "</table>\n",
       "</div>"
      ],
      "text/plain": [
       "       x     y     z\n",
       "0 -10.01 -1.38 -1.70\n",
       "1  -9.44 -0.37  0.37\n",
       "2  -8.63  1.33  0.68"
      ]
     },
     "execution_count": 97,
     "metadata": {},
     "output_type": "execute_result"
    }
   ],
   "source": [
    "datatest3 = modelingDataTract(r'/home/tyrslayer/Documents/Coletas-Geladeira/1589712447-1589712513.csv')\n",
    "datatest3.head(3)"
   ]
  },
  {
   "cell_type": "markdown",
   "id": "2ed94749",
   "metadata": {},
   "source": [
    "Above we can see the teenth file from folder \"Coletas-Geladeira\" above. We trained the model ols on the first file, then the model was tested on the second file from the folder and we got a percentage of 98% of the R-squared from the actual and predicted values, doing the same thing  on the last file from folder we got a percentage of 85%, we will use the file above to looking for a R-squared of at least less than 92%, if we got this value the refrigerator its scruffy."
   ]
  },
  {
   "cell_type": "code",
   "execution_count": 98,
   "id": "ac036e6d",
   "metadata": {},
   "outputs": [],
   "source": [
    "pred_datatest3 = lm.predict(datatest3[['x', 'z']])\n",
    "y_datatest3 = datatest3['y']"
   ]
  },
  {
   "cell_type": "code",
   "execution_count": 99,
   "id": "cea935ca",
   "metadata": {},
   "outputs": [
    {
     "data": {
      "text/plain": [
       "0.8857085772373536"
      ]
     },
     "execution_count": 99,
     "metadata": {},
     "output_type": "execute_result"
    }
   ],
   "source": [
    "metrics.r2_score(y_datatest3, pred_datatest3)"
   ]
  },
  {
   "cell_type": "code",
   "execution_count": 100,
   "id": "d7dcdf27",
   "metadata": {},
   "outputs": [
    {
     "name": "stdout",
     "output_type": "stream",
     "text": [
      "The standard deviation of the column y is: 1.0830985345683632  and the median of the column y is: 0.007614628820960658\n",
      "The standard deviation of the column y that was predicted is: 1.3572365599886573  and the median of the column y that was predicted is: 0.005574249655823493\n"
     ]
    }
   ],
   "source": [
    "print('The standard deviation of the column y is:', y_datatest3.std(ddof=1), ' and the median of the column y is:', y_datatest3.mean())\n",
    "print('The standard deviation of the column y that was predicted is:', pred_datatest3.std(ddof=1), ' and the median of the column y that was predicted is:', pred_datatest3.mean())"
   ]
  },
  {
   "cell_type": "markdown",
   "id": "b41e1313",
   "metadata": {},
   "source": [
    "#### Conclusion..."
   ]
  },
  {
   "cell_type": "markdown",
   "id": "cc612b91",
   "metadata": {},
   "source": [
    "we can notice that the more times the refrigerator is turned off and then turned on it keeps vibrating more and more with distant variations, I think it should vibrate differently but in the end the 'y' column should keep with R-squareds, median and standard deviation similar from the original column 'y'."
   ]
  },
  {
   "cell_type": "markdown",
   "id": "4ac0ea1b",
   "metadata": {},
   "source": [
    "## 3# Goal completed."
   ]
  },
  {
   "cell_type": "markdown",
   "id": "f5b7d3fe",
   "metadata": {},
   "source": [
    "# *finished challenges*:)"
   ]
  }
 ],
 "metadata": {
  "kernelspec": {
   "display_name": "Python 3",
   "language": "python",
   "name": "python3"
  },
  "language_info": {
   "codemirror_mode": {
    "name": "ipython",
    "version": 3
   },
   "file_extension": ".py",
   "mimetype": "text/x-python",
   "name": "python",
   "nbconvert_exporter": "python",
   "pygments_lexer": "ipython3",
   "version": "3.8.8"
  }
 },
 "nbformat": 4,
 "nbformat_minor": 5
}
